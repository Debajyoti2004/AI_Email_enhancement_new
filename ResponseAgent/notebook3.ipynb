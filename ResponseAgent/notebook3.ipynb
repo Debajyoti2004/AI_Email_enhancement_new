{
 "cells": [
  {
   "cell_type": "code",
   "execution_count": 1,
   "id": "3b3b99dd",
   "metadata": {},
   "outputs": [
    {
     "name": "stderr",
     "output_type": "stream",
     "text": [
      "USER_AGENT environment variable not set, consider setting it to identify your requests.\n"
     ]
    },
    {
     "name": "stdout",
     "output_type": "stream",
     "text": [
      " Loading vector store from local disk...\n",
      "Compiling composer agent workflow...\n",
      "Compiling reply agent workflow...\n",
      "Compiling refinement agent workflow...\n"
     ]
    }
   ],
   "source": [
    "from BuildGraph import compile_response_agent"
   ]
  },
  {
   "cell_type": "code",
   "execution_count": 2,
   "id": "fd05bbba",
   "metadata": {},
   "outputs": [
    {
     "name": "stdout",
     "output_type": "stream",
     "text": [
      "Compiling response agent workflow...\n"
     ]
    }
   ],
   "source": [
    "main_agent = compile_response_agent()\n"
   ]
  },
  {
   "cell_type": "code",
   "execution_count": 3,
   "id": "a2521ef2",
   "metadata": {},
   "outputs": [
    {
     "name": "stdout",
     "output_type": "stream",
     "text": [
      "---\n",
      "config:\n",
      "  flowchart:\n",
      "    curve: linear\n",
      "---\n",
      "graph TD;\n",
      "\t__start__([<p>__start__</p>]):::first\n",
      "\tload_memories(load_memories)\n",
      "\tModel_generative_Agent(Model_generative_Agent)\n",
      "\tAgent_tools(Agent_tools)\n",
      "\t__end__([<p>__end__</p>]):::last\n",
      "\tAgent_tools --> Model_generative_Agent;\n",
      "\t__start__ --> load_memories;\n",
      "\tload_memories --> Model_generative_Agent;\n",
      "\tModel_generative_Agent -. &nbsp;continue&nbsp; .-> Agent_tools;\n",
      "\tModel_generative_Agent -. &nbsp;end&nbsp; .-> __end__;\n",
      "\tclassDef default fill:#f2f0ff,line-height:1.2\n",
      "\tclassDef first fill-opacity:0\n",
      "\tclassDef last fill:#bfb6fc\n",
      "\n"
     ]
    }
   ],
   "source": [
    "from IPython.display import display,Image\n",
    "\n",
    "text = main_agent.get_graph(xray=True).draw_mermaid()\n",
    "print(text)"
   ]
  },
  {
   "cell_type": "code",
   "execution_count": 4,
   "id": "5a8ffed9",
   "metadata": {},
   "outputs": [
    {
     "data": {
      "text/plain": [
       "'---\\nconfig:\\n  flowchart:\\n    curve: linear\\n---\\ngraph TD;\\n\\t__start__([<p>__start__</p>]):::first\\n\\tload_memories(load_memories)\\n\\tModel_generative_Agent(Model_generative_Agent)\\n\\tAgent_tools(Agent_tools)\\n\\t__end__([<p>__end__</p>]):::last\\n\\tAgent_tools --> Model_generative_Agent;\\n\\t__start__ --> load_memories;\\n\\tload_memories --> Model_generative_Agent;\\n\\tModel_generative_Agent -. &nbsp;continue&nbsp; .-> Agent_tools;\\n\\tModel_generative_Agent -. &nbsp;end&nbsp; .-> __end__;\\n\\tclassDef default fill:#f2f0ff,line-height:1.2\\n\\tclassDef first fill-opacity:0\\n\\tclassDef last fill:#bfb6fc\\n'"
      ]
     },
     "execution_count": 4,
     "metadata": {},
     "output_type": "execute_result"
    }
   ],
   "source": [
    "text"
   ]
  },
  {
   "cell_type": "code",
   "execution_count": 4,
   "id": "52a20136",
   "metadata": {},
   "outputs": [
    {
     "name": "stdout",
     "output_type": "stream",
     "text": [
      "tool call for search_recall_memories\n",
      "last_message:content=\"I will use the 'composing_email_tool' to generate a professional email based on the details provided.\" additional_kwargs={'id': 'd362772f-7747-427c-bcbc-713561de56d7', 'finish_reason': 'TOOL_CALL', 'tool_plan': \"I will use the 'composing_email_tool' to generate a professional email based on the details provided.\", 'tool_calls': [{'id': 'composing_email_tool_jepx1c09s5cf', 'type': 'function', 'function': {'name': 'composing_email_tool', 'arguments': '{\"email_details\":{\"from\":\"manab@example.com\",\"to\":\"professor@example.com\",\"subject\":\"Request for Project Collaboration\"},\"query\":\"Write a formal email requesting a meeting to discuss project collaboration on AI research.\"}'}}], 'token_count': {'input_tokens': 2028.0, 'output_tokens': 112.0}} response_metadata={'id': 'd362772f-7747-427c-bcbc-713561de56d7', 'finish_reason': 'TOOL_CALL', 'tool_plan': \"I will use the 'composing_email_tool' to generate a professional email based on the details provided.\", 'tool_calls': [{'id': 'composing_email_tool_jepx1c09s5cf', 'type': 'function', 'function': {'name': 'composing_email_tool', 'arguments': '{\"email_details\":{\"from\":\"manab@example.com\",\"to\":\"professor@example.com\",\"subject\":\"Request for Project Collaboration\"},\"query\":\"Write a formal email requesting a meeting to discuss project collaboration on AI research.\"}'}}], 'token_count': {'input_tokens': 2028.0, 'output_tokens': 112.0}} id='run-f1d87ef0-e0a0-46bd-a329-2c26a6c024d1-0' tool_calls=[{'name': 'composing_email_tool', 'args': {'email_details': {'from': 'manab@example.com', 'to': 'professor@example.com', 'subject': 'Request for Project Collaboration'}, 'query': 'Write a formal email requesting a meeting to discuss project collaboration on AI research.'}, 'id': 'composing_email_tool_jepx1c09s5cf', 'type': 'tool_call'}] usage_metadata={'input_tokens': 2028, 'output_tokens': 112, 'total_tokens': 2140}\n",
      "tool call for composing_email_tool\n",
      "tool call for Retrieve_data\n",
      "\n",
      "[Retrieved Documents]\n",
      "- Request samples PayloadContent typeapplication/jsonapplication/jsontext/jsonapplication/*+jsonCopy Expand all  Collapse all {\"order\": {\"order_number\": \"string\",\"date\": \"2019-08-24T14:15:22Z\",\"store\": {\"id\": 0},\"warehouse\": {\"id\": \"497f6eca-6276-4993-bfeb-53cbbbba6f08\"},\"currency\": {\"code\": \"afn\",\"exchange_rate\": 0},\"lines\": [{\"product\": {\"id\": 0},\"listing\": {\"sku\": \"string\"},\"quantity\": {\"amount\": 1,\"measure\": {\"abbreviation\": \"string\"}},\"charges\": [{\"type\": \"price\",\"amount\": -10000000}],\"taxes\": [{\"type\": \"price\",\"amount\": 10000000}],\"costs\": [{\"type\": \"commission\",\"amount\": 10000000}],\"consumer_financials\": [{\"type\": \"price\",\"amount\": -10000000}],\"customization\": {\"text\": \"string\",\"data\": [{\"group\": \"string\",\"key\": \"string\",\"value\": \"string\"}]}}],\"billing_address\": {\"street1\": \"string\",\"street2\": \"string\",\"city\": \"string\",\"state\": \"string\",\"zip_code\": \"string\",\"country_code\": \"ad\",\"email\": \"user@example.com\",\"phone\": \"string\",\"phone_extension\": \"string\",\"first_name\": \"string\",\"last_name\": \"string\",\"company\": \"string\"},\"shipping_address\": {\"street1\": \"string\",\"street2\": \"string\",\"city\": \"string\",\"state\": \"string\",\"zip_code\": \"string\",\"country_code\": \"ad\",\"email\": \"user@example.com\",\"phone\": \"string\",\"phone_extension\": \"string\",\"first_name\": \"string\",\"last_name\": \"string\",\"company\": \"string\"},\"purchase_order_number\": \"string\",\"is_gift\": false,\"is_reserving_inventory\": true,\"shipment\": {\"type\": \"small_parcel\",\"shipping_method\": \"amazon_logistics_us_bulk\",\"scac\": \"string\",\"third_party_account\": {\"account_number\": \"string\",\"address\": {\"company\": \"string\",\"street1\": \"string\",\"city\": \"string\",\"state\":\n",
      "- Response samples 200Content typeapplication/jsonapplication/jsontext/jsonCopy Expand all  Collapse all {\"id\": 0,\"type\": \"standard\",\"purchase_order_number\": \"string\",\"date\": \"2019-08-24T14:15:22Z\",\"status\": \"awaiting_receipt\",\"warehouse\": {\"id\": \"497f6eca-6276-4993-bfeb-53cbbbba6f08\",\"name\": \"string\"},\"vendor\": {\"id\": 0,\"name\": \"string\"},\"vendor_purchase_order\": {\"purchase_order_number\": \"string\",\"is_submitted\": true},\"charges\": [{\"amount\": 0,\"currency\": {\"code\": \"unknown\",\"exchange_rate\": 0},\"type\": \"discount\"}],\"shipment\": {\"expected_at\": \"2019-08-24T14:15:22Z\",\"type\": \"small_parcel\",\"carrier\": \"amazon_logistics\",\"shipping_method\": \"amazon_logistics_us_bulk\",\"address\": {\"company\": \"string\",\"street1\": \"string\",\"street2\": \"string\",\"city\": \"string\",\"state\": \"string\",\"zip_code\": \"string\",\"country_code\": \"ad\",\"email\": \"string\",\"phone\": \"string\",\"phone_extension\": \"string\"}},\"lines\": [{\"id\": 0,\"product\": {\"id\": 0,\"item_number\": \"string\",\"name\": \"string\"},\"vendor_item_number\": \"string\",\"quantity\": {\"amount\": 0,\"measure\": {\"amount\": 0,\"abbreviation\": \"string\"}},\"price\": {\"amount\": 0,\"currency\": {\"code\": \"unknown\",\"exchange_rate\": 0}},\"units_received\": 0}],\"tags\": [{\"id\": \"string\",\"name\": \"string\"}],\"notes\": [{\"created_at\": \"2019-08-24T14:15:22Z\",\"updated_at\": \"2019-08-24T14:15:22Z\",\"text\": \"string\"}],\"summary\": {\"subtotal\": {\"amount\": 0,\"currency\": {\"code\": \"unknown\",\"exchange_rate\": 0}},\"total\": {\"amount\": 0,\"currency\": {\"code\": \"unknown\",\"exchange_rate\": 0}}},\"meta\": {\"created\": {\"at\":\n",
      "- Response samples 200Content typeapplication/jsonapplication/jsontext/jsonCopy Expand all  Collapse all {\"data\": [{\"id\": 0,\"type\": \"standard\",\"purchase_order_number\": \"string\",\"date\": \"2019-08-24T14:15:22Z\",\"status\": \"awaiting_receipt\",\"warehouse\": {\"id\": \"497f6eca-6276-4993-bfeb-53cbbbba6f08\",\"name\": \"string\"},\"vendor\": {\"id\": 0,\"name\": \"string\"},\"vendor_purchase_order\": {\"purchase_order_number\": \"string\",\"is_submitted\": true},\"charges\": [{\"amount\": 0,\"currency\": {\"code\": \"unknown\",\"exchange_rate\": 0},\"type\": \"discount\"}],\"shipment\": {\"expected_at\": \"2019-08-24T14:15:22Z\",\"type\": \"small_parcel\",\"carrier\": \"amazon_logistics\",\"shipping_method\": \"amazon_logistics_us_bulk\",\"address\": {\"company\": \"string\",\"street1\": \"string\",\"street2\": \"string\",\"city\": \"string\",\"state\": \"string\",\"zip_code\": \"string\",\"country_code\": \"ad\",\"email\": \"string\",\"phone\": \"string\",\"phone_extension\": \"string\"}},\"lines\": [{\"id\": 0,\"product\": {\"id\": 0,\"item_number\": \"string\",\"name\": \"string\"},\"vendor_item_number\": \"string\",\"quantity\": {\"amount\": 0,\"measure\": {\"amount\": 0,\"abbreviation\": \"string\"}},\"price\": {\"amount\": 0,\"currency\": {\"code\": \"unknown\",\"exchange_rate\": 0}},\"units_received\": 0}],\"tags\": [{\"id\": \"string\",\"name\": \"string\"}],\"notes\": [{\"created_at\": \"2019-08-24T14:15:22Z\",\"updated_at\": \"2019-08-24T14:15:22Z\",\"text\": \"string\"}],\"summary\": {\"subtotal\": {\"amount\": 0,\"currency\": {\"code\": \"unknown\",\"exchange_rate\": 0}},\"total\": {\"amount\": 0,\"currency\": {\"code\": \"unknown\",\"exchange_rate\": 0}}},\"meta\": {\"created\": {\"at\":\n",
      "tool call for refinement_tool\n",
      "tool call for save_recall_memory\n",
      "tool call for save_recall_memory\n",
      "\n",
      "Final Result:\n",
      " {'recall_memories': [], 'messages': [HumanMessage(content='\\nYou are an expert email assistant. Based on the details below, generate a professional email:\\n\\nEmail Input:\\n{\\n    \"from\": \"manab@example.com\",\\n    \"to\": \"professor@example.com\",\\n    \"subject\": \"Request for Project Collaboration\"\\n}\\n\\nQuery:\\nWrite a formal email requesting a meeting to discuss project collaboration on AI research.\\n', additional_kwargs={}, response_metadata={}, id='fca87443-08f4-43cc-a0ba-b111f7540460'), AIMessage(content=\"I will use the 'composing_email_tool' to generate a professional email based on the details provided.\", additional_kwargs={'id': 'd362772f-7747-427c-bcbc-713561de56d7', 'finish_reason': 'TOOL_CALL', 'tool_plan': \"I will use the 'composing_email_tool' to generate a professional email based on the details provided.\", 'tool_calls': [{'id': 'composing_email_tool_jepx1c09s5cf', 'type': 'function', 'function': {'name': 'composing_email_tool', 'arguments': '{\"email_details\":{\"from\":\"manab@example.com\",\"to\":\"professor@example.com\",\"subject\":\"Request for Project Collaboration\"},\"query\":\"Write a formal email requesting a meeting to discuss project collaboration on AI research.\"}'}}], 'token_count': {'input_tokens': 2028.0, 'output_tokens': 112.0}}, response_metadata={'id': 'd362772f-7747-427c-bcbc-713561de56d7', 'finish_reason': 'TOOL_CALL', 'tool_plan': \"I will use the 'composing_email_tool' to generate a professional email based on the details provided.\", 'tool_calls': [{'id': 'composing_email_tool_jepx1c09s5cf', 'type': 'function', 'function': {'name': 'composing_email_tool', 'arguments': '{\"email_details\":{\"from\":\"manab@example.com\",\"to\":\"professor@example.com\",\"subject\":\"Request for Project Collaboration\"},\"query\":\"Write a formal email requesting a meeting to discuss project collaboration on AI research.\"}'}}], 'token_count': {'input_tokens': 2028.0, 'output_tokens': 112.0}}, id='run-f1d87ef0-e0a0-46bd-a329-2c26a6c024d1-0', tool_calls=[{'name': 'composing_email_tool', 'args': {'email_details': {'from': 'manab@example.com', 'to': 'professor@example.com', 'subject': 'Request for Project Collaboration'}, 'query': 'Write a formal email requesting a meeting to discuss project collaboration on AI research.'}, 'id': 'composing_email_tool_jepx1c09s5cf', 'type': 'tool_call'}], usage_metadata={'input_tokens': 2028, 'output_tokens': 112, 'total_tokens': 2140}), ToolMessage(content='\"{\\\\\"From\\\\\": \\\\\"manab@example.com\\\\\", \\\\\"To\\\\\": \\\\\"professor@example.com\\\\\", \\\\\"Subject\\\\\": \\\\\"Potential Collaboration on AI Research\\\\\", \\\\\"Body\\\\\": \\\\\"Dear Professor,\\\\\\\\n\\\\\\\\nI hope this email finds you well.\\\\\\\\n\\\\\\\\nMy name is Manab, and I am writing to express my strong interest in collaborating on AI research projects within your research group. I have been following your work in [mention specific area of Professor\\'s research] with great interest, particularly [mention a specific publication or project if possible]. I believe my skills and experience in [mention your relevant skills], especially [mention a specific skill relevant to the professor\\'s work], could be a valuable asset to your team.\\\\\\\\n\\\\\\\\nI would be grateful for the opportunity to discuss potential collaboration opportunities in more detail. Would you be available for a brief meeting sometime next week? Please let me know your availability, or if another time would be more convenient.\\\\\\\\n\\\\\\\\nThank you for your time and consideration. I look forward to hearing from you.\\\\\\\\n\\\\\\\\nSincerely,\\\\\\\\nManab\\\\\"}\"', name='composing_email_tool', id='dd9b12f4-37d9-43fa-a605-733c5ca0648d', tool_call_id='composing_email_tool_jepx1c09s5cf'), AIMessage(content='{\"From\": \"manab@example.com\", \"To\": \"professor@example.com\", \"Subject\": \"Potential Collaboration on AI Research\", \"Body\": \"Dear Professor,\\\\n\\\\nI hope this email finds you well.\\\\n\\\\nMy name is Manab, and I am writing to express my strong interest in collaborating on AI research projects within your research group. I have been following your work in [mention specific area of Professor\\'s research] with great interest, particularly [mention a specific publication or project if possible]. I believe my skills and experience in [mention your relevant skills], especially [mention a specific skill relevant to the professor\\'s work], could be a valuable asset to your team.\\\\n\\\\nI would be grateful for the opportunity to discuss potential collaboration opportunities in more detail. Would you be available for a brief meeting sometime next week? Please let me know your availability, or if another time would be more convenient.\\\\n\\\\nThank you for your time and consideration. I look forward to hearing from you.\\\\n\\\\nSincerely,\\\\nManab\"}', additional_kwargs={'id': '92c0871e-2a66-46eb-9341-83e5fac08676', 'finish_reason': 'COMPLETE', 'content': '{\"From\": \"manab@example.com\", \"To\": \"professor@example.com\", \"Subject\": \"Potential Collaboration on AI Research\", \"Body\": \"Dear Professor,\\\\n\\\\nI hope this email finds you well.\\\\n\\\\nMy name is Manab, and I am writing to express my strong interest in collaborating on AI research projects within your research group. I have been following your work in [mention specific area of Professor\\'s research] with great interest, particularly [mention a specific publication or project if possible]. I believe my skills and experience in [mention your relevant skills], especially [mention a specific skill relevant to the professor\\'s work], could be a valuable asset to your team.\\\\n\\\\nI would be grateful for the opportunity to discuss potential collaboration opportunities in more detail. Would you be available for a brief meeting sometime next week? Please let me know your availability, or if another time would be more convenient.\\\\n\\\\nThank you for your time and consideration. I look forward to hearing from you.\\\\n\\\\nSincerely,\\\\nManab\"}', 'citations': [Citation(start=0, end=1027, text='{\"From\": \"manab@example.com\", \"To\": \"professor@example.com\", \"Subject\": \"Potential Collaboration on AI Research\", \"Body\": \"Dear Professor,\\\\n\\\\nI hope this email finds you well.\\\\n\\\\nMy name is Manab, and I am writing to express my strong interest in collaborating on AI research projects within your research group. I have been following your work in [mention specific area of Professor\\'s research] with great interest, particularly [mention a specific publication or project if possible]. I believe my skills and experience in [mention your relevant skills], especially [mention a specific skill relevant to the professor\\'s work], could be a valuable asset to your team.\\\\n\\\\nI would be grateful for the opportunity to discuss potential collaboration opportunities in more detail. Would you be available for a brief meeting sometime next week? Please let me know your availability, or if another time would be more convenient.\\\\n\\\\nThank you for your time and consideration. I look forward to hearing from you.\\\\n\\\\nSincerely,\\\\nManab\"}', sources=[ToolSource(type='tool', id='composing_email_tool_jepx1c09s5cf:0', tool_output={'output': '\"{\\\\\"From\\\\\": \\\\\"manab@example.com\\\\\", \\\\\"To\\\\\": \\\\\"professor@example.com\\\\\", \\\\\"Subject\\\\\": \\\\\"Potential Collaboration on AI Research\\\\\", \\\\\"Body\\\\\": \\\\\"Dear Professor,\\\\\\\\n\\\\\\\\nI hope this email finds you well.\\\\\\\\n\\\\\\\\nMy name is Manab, and I am writing to express my strong interest in collaborating on AI research projects within your research group. I have been following your work in [mention specific area of Professor\\'s research] with great interest, particularly [mention a specific publication or project if possible]. I believe my skills and experience in [mention your relevant skills], especially [mention a specific skill relevant to the professor\\'s work], could be a valuable asset to your team.\\\\\\\\n\\\\\\\\nI would be grateful for the opportunity to discuss potential collaboration opportunities in more detail. Would you be available for a brief meeting sometime next week? Please let me know your availability, or if another time would be more convenient.\\\\\\\\n\\\\\\\\nThank you for your time and consideration. I look forward to hearing from you.\\\\\\\\n\\\\\\\\nSincerely,\\\\\\\\nManab\\\\\"}\"'})], type='TEXT_CONTENT')], 'token_count': {'input_tokens': 2433.0, 'output_tokens': 234.0}}, response_metadata={'id': '92c0871e-2a66-46eb-9341-83e5fac08676', 'finish_reason': 'COMPLETE', 'content': '{\"From\": \"manab@example.com\", \"To\": \"professor@example.com\", \"Subject\": \"Potential Collaboration on AI Research\", \"Body\": \"Dear Professor,\\\\n\\\\nI hope this email finds you well.\\\\n\\\\nMy name is Manab, and I am writing to express my strong interest in collaborating on AI research projects within your research group. I have been following your work in [mention specific area of Professor\\'s research] with great interest, particularly [mention a specific publication or project if possible]. I believe my skills and experience in [mention your relevant skills], especially [mention a specific skill relevant to the professor\\'s work], could be a valuable asset to your team.\\\\n\\\\nI would be grateful for the opportunity to discuss potential collaboration opportunities in more detail. Would you be available for a brief meeting sometime next week? Please let me know your availability, or if another time would be more convenient.\\\\n\\\\nThank you for your time and consideration. I look forward to hearing from you.\\\\n\\\\nSincerely,\\\\nManab\"}', 'citations': [Citation(start=0, end=1027, text='{\"From\": \"manab@example.com\", \"To\": \"professor@example.com\", \"Subject\": \"Potential Collaboration on AI Research\", \"Body\": \"Dear Professor,\\\\n\\\\nI hope this email finds you well.\\\\n\\\\nMy name is Manab, and I am writing to express my strong interest in collaborating on AI research projects within your research group. I have been following your work in [mention specific area of Professor\\'s research] with great interest, particularly [mention a specific publication or project if possible]. I believe my skills and experience in [mention your relevant skills], especially [mention a specific skill relevant to the professor\\'s work], could be a valuable asset to your team.\\\\n\\\\nI would be grateful for the opportunity to discuss potential collaboration opportunities in more detail. Would you be available for a brief meeting sometime next week? Please let me know your availability, or if another time would be more convenient.\\\\n\\\\nThank you for your time and consideration. I look forward to hearing from you.\\\\n\\\\nSincerely,\\\\nManab\"}', sources=[ToolSource(type='tool', id='composing_email_tool_jepx1c09s5cf:0', tool_output={'output': '\"{\\\\\"From\\\\\": \\\\\"manab@example.com\\\\\", \\\\\"To\\\\\": \\\\\"professor@example.com\\\\\", \\\\\"Subject\\\\\": \\\\\"Potential Collaboration on AI Research\\\\\", \\\\\"Body\\\\\": \\\\\"Dear Professor,\\\\\\\\n\\\\\\\\nI hope this email finds you well.\\\\\\\\n\\\\\\\\nMy name is Manab, and I am writing to express my strong interest in collaborating on AI research projects within your research group. I have been following your work in [mention specific area of Professor\\'s research] with great interest, particularly [mention a specific publication or project if possible]. I believe my skills and experience in [mention your relevant skills], especially [mention a specific skill relevant to the professor\\'s work], could be a valuable asset to your team.\\\\\\\\n\\\\\\\\nI would be grateful for the opportunity to discuss potential collaboration opportunities in more detail. Would you be available for a brief meeting sometime next week? Please let me know your availability, or if another time would be more convenient.\\\\\\\\n\\\\\\\\nThank you for your time and consideration. I look forward to hearing from you.\\\\\\\\n\\\\\\\\nSincerely,\\\\\\\\nManab\\\\\"}\"'})], type='TEXT_CONTENT')], 'token_count': {'input_tokens': 2433.0, 'output_tokens': 234.0}}, id='run-ec43b9e6-8705-42cd-995e-d9c20670f9df-0', usage_metadata={'input_tokens': 2433, 'output_tokens': 234, 'total_tokens': 2667})]}\n"
     ]
    }
   ],
   "source": [
    "from langchain_core.runnables import RunnableConfig\n",
    "import uuid\n",
    "import json\n",
    "\n",
    "# Config with user_id and a unique thread_id\n",
    "config = RunnableConfig(configurable={\n",
    "    \"user_id\": \"user_123\",\n",
    "    \"thread_id\": str(uuid.uuid4())\n",
    "})\n",
    "\n",
    "response = main_agent.invoke(\n",
    "    {\n",
    "        \"messages\": [\n",
    "            {\n",
    "                \"role\": \"user\",\n",
    "                \"content\": \"\"\"\n",
    "You are an expert email assistant. Based on the details below, generate a professional email:\n",
    "\n",
    "Email Input:\n",
    "{\n",
    "    \"from\": \"manab@example.com\",\n",
    "    \"to\": \"professor@example.com\",\n",
    "    \"subject\": \"Request for Project Collaboration\"\n",
    "}\n",
    "\n",
    "Query:\n",
    "Write a formal email requesting a meeting to discuss project collaboration on AI research.\n",
    "\"\"\"\n",
    "            }\n",
    "        ]\n",
    "    },\n",
    "    config=config\n",
    ")\n",
    "\n",
    "print(\"\\nFinal Result:\\n\", response)\n"
   ]
  },
  {
   "cell_type": "code",
   "execution_count": 6,
   "id": "23d1883d",
   "metadata": {},
   "outputs": [],
   "source": [
    "from pprint import pprint"
   ]
  },
  {
   "cell_type": "code",
   "execution_count": 7,
   "id": "961921c0",
   "metadata": {},
   "outputs": [
    {
     "name": "stdout",
     "output_type": "stream",
     "text": [
      "{'messages': [HumanMessage(content='\\nYou are an expert email assistant. Based on the details below, generate a professional email:\\n\\nEmail Input:\\n{\\n    \"from\": \"manab@example.com\",\\n    \"to\": \"professor@example.com\",\\n    \"subject\": \"Request for Project Collaboration\"\\n}\\n\\nQuery:\\nWrite a formal email requesting a meeting to discuss project collaboration on AI research.\\n', additional_kwargs={}, response_metadata={}, id='fca87443-08f4-43cc-a0ba-b111f7540460'),\n",
      "              AIMessage(content=\"I will use the 'composing_email_tool' to generate a professional email based on the details provided.\", additional_kwargs={'id': 'd362772f-7747-427c-bcbc-713561de56d7', 'finish_reason': 'TOOL_CALL', 'tool_plan': \"I will use the 'composing_email_tool' to generate a professional email based on the details provided.\", 'tool_calls': [{'id': 'composing_email_tool_jepx1c09s5cf', 'type': 'function', 'function': {'name': 'composing_email_tool', 'arguments': '{\"email_details\":{\"from\":\"manab@example.com\",\"to\":\"professor@example.com\",\"subject\":\"Request for Project Collaboration\"},\"query\":\"Write a formal email requesting a meeting to discuss project collaboration on AI research.\"}'}}], 'token_count': {'input_tokens': 2028.0, 'output_tokens': 112.0}}, response_metadata={'id': 'd362772f-7747-427c-bcbc-713561de56d7', 'finish_reason': 'TOOL_CALL', 'tool_plan': \"I will use the 'composing_email_tool' to generate a professional email based on the details provided.\", 'tool_calls': [{'id': 'composing_email_tool_jepx1c09s5cf', 'type': 'function', 'function': {'name': 'composing_email_tool', 'arguments': '{\"email_details\":{\"from\":\"manab@example.com\",\"to\":\"professor@example.com\",\"subject\":\"Request for Project Collaboration\"},\"query\":\"Write a formal email requesting a meeting to discuss project collaboration on AI research.\"}'}}], 'token_count': {'input_tokens': 2028.0, 'output_tokens': 112.0}}, id='run-f1d87ef0-e0a0-46bd-a329-2c26a6c024d1-0', tool_calls=[{'name': 'composing_email_tool', 'args': {'email_details': {'from': 'manab@example.com', 'to': 'professor@example.com', 'subject': 'Request for Project Collaboration'}, 'query': 'Write a formal email requesting a meeting to discuss project collaboration on AI research.'}, 'id': 'composing_email_tool_jepx1c09s5cf', 'type': 'tool_call'}], usage_metadata={'input_tokens': 2028, 'output_tokens': 112, 'total_tokens': 2140}),\n",
      "              ToolMessage(content='\"{\\\\\"From\\\\\": \\\\\"manab@example.com\\\\\", \\\\\"To\\\\\": \\\\\"professor@example.com\\\\\", \\\\\"Subject\\\\\": \\\\\"Potential Collaboration on AI Research\\\\\", \\\\\"Body\\\\\": \\\\\"Dear Professor,\\\\\\\\n\\\\\\\\nI hope this email finds you well.\\\\\\\\n\\\\\\\\nMy name is Manab, and I am writing to express my strong interest in collaborating on AI research projects within your research group. I have been following your work in [mention specific area of Professor\\'s research] with great interest, particularly [mention a specific publication or project if possible]. I believe my skills and experience in [mention your relevant skills], especially [mention a specific skill relevant to the professor\\'s work], could be a valuable asset to your team.\\\\\\\\n\\\\\\\\nI would be grateful for the opportunity to discuss potential collaboration opportunities in more detail. Would you be available for a brief meeting sometime next week? Please let me know your availability, or if another time would be more convenient.\\\\\\\\n\\\\\\\\nThank you for your time and consideration. I look forward to hearing from you.\\\\\\\\n\\\\\\\\nSincerely,\\\\\\\\nManab\\\\\"}\"', name='composing_email_tool', id='dd9b12f4-37d9-43fa-a605-733c5ca0648d', tool_call_id='composing_email_tool_jepx1c09s5cf'),\n",
      "              AIMessage(content='{\"From\": \"manab@example.com\", \"To\": \"professor@example.com\", \"Subject\": \"Potential Collaboration on AI Research\", \"Body\": \"Dear Professor,\\\\n\\\\nI hope this email finds you well.\\\\n\\\\nMy name is Manab, and I am writing to express my strong interest in collaborating on AI research projects within your research group. I have been following your work in [mention specific area of Professor\\'s research] with great interest, particularly [mention a specific publication or project if possible]. I believe my skills and experience in [mention your relevant skills], especially [mention a specific skill relevant to the professor\\'s work], could be a valuable asset to your team.\\\\n\\\\nI would be grateful for the opportunity to discuss potential collaboration opportunities in more detail. Would you be available for a brief meeting sometime next week? Please let me know your availability, or if another time would be more convenient.\\\\n\\\\nThank you for your time and consideration. I look forward to hearing from you.\\\\n\\\\nSincerely,\\\\nManab\"}', additional_kwargs={'id': '92c0871e-2a66-46eb-9341-83e5fac08676', 'finish_reason': 'COMPLETE', 'content': '{\"From\": \"manab@example.com\", \"To\": \"professor@example.com\", \"Subject\": \"Potential Collaboration on AI Research\", \"Body\": \"Dear Professor,\\\\n\\\\nI hope this email finds you well.\\\\n\\\\nMy name is Manab, and I am writing to express my strong interest in collaborating on AI research projects within your research group. I have been following your work in [mention specific area of Professor\\'s research] with great interest, particularly [mention a specific publication or project if possible]. I believe my skills and experience in [mention your relevant skills], especially [mention a specific skill relevant to the professor\\'s work], could be a valuable asset to your team.\\\\n\\\\nI would be grateful for the opportunity to discuss potential collaboration opportunities in more detail. Would you be available for a brief meeting sometime next week? Please let me know your availability, or if another time would be more convenient.\\\\n\\\\nThank you for your time and consideration. I look forward to hearing from you.\\\\n\\\\nSincerely,\\\\nManab\"}', 'citations': [Citation(start=0, end=1027, text='{\"From\": \"manab@example.com\", \"To\": \"professor@example.com\", \"Subject\": \"Potential Collaboration on AI Research\", \"Body\": \"Dear Professor,\\\\n\\\\nI hope this email finds you well.\\\\n\\\\nMy name is Manab, and I am writing to express my strong interest in collaborating on AI research projects within your research group. I have been following your work in [mention specific area of Professor\\'s research] with great interest, particularly [mention a specific publication or project if possible]. I believe my skills and experience in [mention your relevant skills], especially [mention a specific skill relevant to the professor\\'s work], could be a valuable asset to your team.\\\\n\\\\nI would be grateful for the opportunity to discuss potential collaboration opportunities in more detail. Would you be available for a brief meeting sometime next week? Please let me know your availability, or if another time would be more convenient.\\\\n\\\\nThank you for your time and consideration. I look forward to hearing from you.\\\\n\\\\nSincerely,\\\\nManab\"}', sources=[ToolSource(type='tool', id='composing_email_tool_jepx1c09s5cf:0', tool_output={'output': '\"{\\\\\"From\\\\\": \\\\\"manab@example.com\\\\\", \\\\\"To\\\\\": \\\\\"professor@example.com\\\\\", \\\\\"Subject\\\\\": \\\\\"Potential Collaboration on AI Research\\\\\", \\\\\"Body\\\\\": \\\\\"Dear Professor,\\\\\\\\n\\\\\\\\nI hope this email finds you well.\\\\\\\\n\\\\\\\\nMy name is Manab, and I am writing to express my strong interest in collaborating on AI research projects within your research group. I have been following your work in [mention specific area of Professor\\'s research] with great interest, particularly [mention a specific publication or project if possible]. I believe my skills and experience in [mention your relevant skills], especially [mention a specific skill relevant to the professor\\'s work], could be a valuable asset to your team.\\\\\\\\n\\\\\\\\nI would be grateful for the opportunity to discuss potential collaboration opportunities in more detail. Would you be available for a brief meeting sometime next week? Please let me know your availability, or if another time would be more convenient.\\\\\\\\n\\\\\\\\nThank you for your time and consideration. I look forward to hearing from you.\\\\\\\\n\\\\\\\\nSincerely,\\\\\\\\nManab\\\\\"}\"'})], type='TEXT_CONTENT')], 'token_count': {'input_tokens': 2433.0, 'output_tokens': 234.0}}, response_metadata={'id': '92c0871e-2a66-46eb-9341-83e5fac08676', 'finish_reason': 'COMPLETE', 'content': '{\"From\": \"manab@example.com\", \"To\": \"professor@example.com\", \"Subject\": \"Potential Collaboration on AI Research\", \"Body\": \"Dear Professor,\\\\n\\\\nI hope this email finds you well.\\\\n\\\\nMy name is Manab, and I am writing to express my strong interest in collaborating on AI research projects within your research group. I have been following your work in [mention specific area of Professor\\'s research] with great interest, particularly [mention a specific publication or project if possible]. I believe my skills and experience in [mention your relevant skills], especially [mention a specific skill relevant to the professor\\'s work], could be a valuable asset to your team.\\\\n\\\\nI would be grateful for the opportunity to discuss potential collaboration opportunities in more detail. Would you be available for a brief meeting sometime next week? Please let me know your availability, or if another time would be more convenient.\\\\n\\\\nThank you for your time and consideration. I look forward to hearing from you.\\\\n\\\\nSincerely,\\\\nManab\"}', 'citations': [Citation(start=0, end=1027, text='{\"From\": \"manab@example.com\", \"To\": \"professor@example.com\", \"Subject\": \"Potential Collaboration on AI Research\", \"Body\": \"Dear Professor,\\\\n\\\\nI hope this email finds you well.\\\\n\\\\nMy name is Manab, and I am writing to express my strong interest in collaborating on AI research projects within your research group. I have been following your work in [mention specific area of Professor\\'s research] with great interest, particularly [mention a specific publication or project if possible]. I believe my skills and experience in [mention your relevant skills], especially [mention a specific skill relevant to the professor\\'s work], could be a valuable asset to your team.\\\\n\\\\nI would be grateful for the opportunity to discuss potential collaboration opportunities in more detail. Would you be available for a brief meeting sometime next week? Please let me know your availability, or if another time would be more convenient.\\\\n\\\\nThank you for your time and consideration. I look forward to hearing from you.\\\\n\\\\nSincerely,\\\\nManab\"}', sources=[ToolSource(type='tool', id='composing_email_tool_jepx1c09s5cf:0', tool_output={'output': '\"{\\\\\"From\\\\\": \\\\\"manab@example.com\\\\\", \\\\\"To\\\\\": \\\\\"professor@example.com\\\\\", \\\\\"Subject\\\\\": \\\\\"Potential Collaboration on AI Research\\\\\", \\\\\"Body\\\\\": \\\\\"Dear Professor,\\\\\\\\n\\\\\\\\nI hope this email finds you well.\\\\\\\\n\\\\\\\\nMy name is Manab, and I am writing to express my strong interest in collaborating on AI research projects within your research group. I have been following your work in [mention specific area of Professor\\'s research] with great interest, particularly [mention a specific publication or project if possible]. I believe my skills and experience in [mention your relevant skills], especially [mention a specific skill relevant to the professor\\'s work], could be a valuable asset to your team.\\\\\\\\n\\\\\\\\nI would be grateful for the opportunity to discuss potential collaboration opportunities in more detail. Would you be available for a brief meeting sometime next week? Please let me know your availability, or if another time would be more convenient.\\\\\\\\n\\\\\\\\nThank you for your time and consideration. I look forward to hearing from you.\\\\\\\\n\\\\\\\\nSincerely,\\\\\\\\nManab\\\\\"}\"'})], type='TEXT_CONTENT')], 'token_count': {'input_tokens': 2433.0, 'output_tokens': 234.0}}, id='run-ec43b9e6-8705-42cd-995e-d9c20670f9df-0', usage_metadata={'input_tokens': 2433, 'output_tokens': 234, 'total_tokens': 2667})],\n",
      " 'recall_memories': []}\n"
     ]
    }
   ],
   "source": [
    "\n",
    "pprint(response)"
   ]
  },
  {
   "cell_type": "code",
   "execution_count": null,
   "id": "c93f6278",
   "metadata": {},
   "outputs": [],
   "source": []
  },
  {
   "cell_type": "code",
   "execution_count": 8,
   "id": "a2505f14",
   "metadata": {},
   "outputs": [
    {
     "data": {
      "text/plain": [
       "langgraph.pregel.io.AddableValuesDict"
      ]
     },
     "execution_count": 8,
     "metadata": {},
     "output_type": "execute_result"
    }
   ],
   "source": [
    "type(response)"
   ]
  },
  {
   "cell_type": "code",
   "execution_count": 8,
   "id": "392eb8a1",
   "metadata": {},
   "outputs": [
    {
     "name": "stdout",
     "output_type": "stream",
     "text": [
      "[HumanMessage(content='\\nYou are an expert email assistant. Based on the details below, generate a professional email:\\n\\nEmail Input:\\n{\\n    \"from\": \"manab@example.com\",\\n    \"to\": \"professor@example.com\",\\n    \"subject\": \"Request for Project Collaboration\"\\n}\\n\\nQuery:\\nWrite a formal email requesting a meeting to discuss project collaboration on AI research.\\n', additional_kwargs={}, response_metadata={}, id='fca87443-08f4-43cc-a0ba-b111f7540460'), AIMessage(content=\"I will use the 'composing_email_tool' to generate a professional email based on the details provided.\", additional_kwargs={'id': 'd362772f-7747-427c-bcbc-713561de56d7', 'finish_reason': 'TOOL_CALL', 'tool_plan': \"I will use the 'composing_email_tool' to generate a professional email based on the details provided.\", 'tool_calls': [{'id': 'composing_email_tool_jepx1c09s5cf', 'type': 'function', 'function': {'name': 'composing_email_tool', 'arguments': '{\"email_details\":{\"from\":\"manab@example.com\",\"to\":\"professor@example.com\",\"subject\":\"Request for Project Collaboration\"},\"query\":\"Write a formal email requesting a meeting to discuss project collaboration on AI research.\"}'}}], 'token_count': {'input_tokens': 2028.0, 'output_tokens': 112.0}}, response_metadata={'id': 'd362772f-7747-427c-bcbc-713561de56d7', 'finish_reason': 'TOOL_CALL', 'tool_plan': \"I will use the 'composing_email_tool' to generate a professional email based on the details provided.\", 'tool_calls': [{'id': 'composing_email_tool_jepx1c09s5cf', 'type': 'function', 'function': {'name': 'composing_email_tool', 'arguments': '{\"email_details\":{\"from\":\"manab@example.com\",\"to\":\"professor@example.com\",\"subject\":\"Request for Project Collaboration\"},\"query\":\"Write a formal email requesting a meeting to discuss project collaboration on AI research.\"}'}}], 'token_count': {'input_tokens': 2028.0, 'output_tokens': 112.0}}, id='run-f1d87ef0-e0a0-46bd-a329-2c26a6c024d1-0', tool_calls=[{'name': 'composing_email_tool', 'args': {'email_details': {'from': 'manab@example.com', 'to': 'professor@example.com', 'subject': 'Request for Project Collaboration'}, 'query': 'Write a formal email requesting a meeting to discuss project collaboration on AI research.'}, 'id': 'composing_email_tool_jepx1c09s5cf', 'type': 'tool_call'}], usage_metadata={'input_tokens': 2028, 'output_tokens': 112, 'total_tokens': 2140}), ToolMessage(content='\"{\\\\\"From\\\\\": \\\\\"manab@example.com\\\\\", \\\\\"To\\\\\": \\\\\"professor@example.com\\\\\", \\\\\"Subject\\\\\": \\\\\"Potential Collaboration on AI Research\\\\\", \\\\\"Body\\\\\": \\\\\"Dear Professor,\\\\\\\\n\\\\\\\\nI hope this email finds you well.\\\\\\\\n\\\\\\\\nMy name is Manab, and I am writing to express my strong interest in collaborating on AI research projects within your research group. I have been following your work in [mention specific area of Professor\\'s research] with great interest, particularly [mention a specific publication or project if possible]. I believe my skills and experience in [mention your relevant skills], especially [mention a specific skill relevant to the professor\\'s work], could be a valuable asset to your team.\\\\\\\\n\\\\\\\\nI would be grateful for the opportunity to discuss potential collaboration opportunities in more detail. Would you be available for a brief meeting sometime next week? Please let me know your availability, or if another time would be more convenient.\\\\\\\\n\\\\\\\\nThank you for your time and consideration. I look forward to hearing from you.\\\\\\\\n\\\\\\\\nSincerely,\\\\\\\\nManab\\\\\"}\"', name='composing_email_tool', id='dd9b12f4-37d9-43fa-a605-733c5ca0648d', tool_call_id='composing_email_tool_jepx1c09s5cf'), AIMessage(content='{\"From\": \"manab@example.com\", \"To\": \"professor@example.com\", \"Subject\": \"Potential Collaboration on AI Research\", \"Body\": \"Dear Professor,\\\\n\\\\nI hope this email finds you well.\\\\n\\\\nMy name is Manab, and I am writing to express my strong interest in collaborating on AI research projects within your research group. I have been following your work in [mention specific area of Professor\\'s research] with great interest, particularly [mention a specific publication or project if possible]. I believe my skills and experience in [mention your relevant skills], especially [mention a specific skill relevant to the professor\\'s work], could be a valuable asset to your team.\\\\n\\\\nI would be grateful for the opportunity to discuss potential collaboration opportunities in more detail. Would you be available for a brief meeting sometime next week? Please let me know your availability, or if another time would be more convenient.\\\\n\\\\nThank you for your time and consideration. I look forward to hearing from you.\\\\n\\\\nSincerely,\\\\nManab\"}', additional_kwargs={'id': '92c0871e-2a66-46eb-9341-83e5fac08676', 'finish_reason': 'COMPLETE', 'content': '{\"From\": \"manab@example.com\", \"To\": \"professor@example.com\", \"Subject\": \"Potential Collaboration on AI Research\", \"Body\": \"Dear Professor,\\\\n\\\\nI hope this email finds you well.\\\\n\\\\nMy name is Manab, and I am writing to express my strong interest in collaborating on AI research projects within your research group. I have been following your work in [mention specific area of Professor\\'s research] with great interest, particularly [mention a specific publication or project if possible]. I believe my skills and experience in [mention your relevant skills], especially [mention a specific skill relevant to the professor\\'s work], could be a valuable asset to your team.\\\\n\\\\nI would be grateful for the opportunity to discuss potential collaboration opportunities in more detail. Would you be available for a brief meeting sometime next week? Please let me know your availability, or if another time would be more convenient.\\\\n\\\\nThank you for your time and consideration. I look forward to hearing from you.\\\\n\\\\nSincerely,\\\\nManab\"}', 'citations': [Citation(start=0, end=1027, text='{\"From\": \"manab@example.com\", \"To\": \"professor@example.com\", \"Subject\": \"Potential Collaboration on AI Research\", \"Body\": \"Dear Professor,\\\\n\\\\nI hope this email finds you well.\\\\n\\\\nMy name is Manab, and I am writing to express my strong interest in collaborating on AI research projects within your research group. I have been following your work in [mention specific area of Professor\\'s research] with great interest, particularly [mention a specific publication or project if possible]. I believe my skills and experience in [mention your relevant skills], especially [mention a specific skill relevant to the professor\\'s work], could be a valuable asset to your team.\\\\n\\\\nI would be grateful for the opportunity to discuss potential collaboration opportunities in more detail. Would you be available for a brief meeting sometime next week? Please let me know your availability, or if another time would be more convenient.\\\\n\\\\nThank you for your time and consideration. I look forward to hearing from you.\\\\n\\\\nSincerely,\\\\nManab\"}', sources=[ToolSource(type='tool', id='composing_email_tool_jepx1c09s5cf:0', tool_output={'output': '\"{\\\\\"From\\\\\": \\\\\"manab@example.com\\\\\", \\\\\"To\\\\\": \\\\\"professor@example.com\\\\\", \\\\\"Subject\\\\\": \\\\\"Potential Collaboration on AI Research\\\\\", \\\\\"Body\\\\\": \\\\\"Dear Professor,\\\\\\\\n\\\\\\\\nI hope this email finds you well.\\\\\\\\n\\\\\\\\nMy name is Manab, and I am writing to express my strong interest in collaborating on AI research projects within your research group. I have been following your work in [mention specific area of Professor\\'s research] with great interest, particularly [mention a specific publication or project if possible]. I believe my skills and experience in [mention your relevant skills], especially [mention a specific skill relevant to the professor\\'s work], could be a valuable asset to your team.\\\\\\\\n\\\\\\\\nI would be grateful for the opportunity to discuss potential collaboration opportunities in more detail. Would you be available for a brief meeting sometime next week? Please let me know your availability, or if another time would be more convenient.\\\\\\\\n\\\\\\\\nThank you for your time and consideration. I look forward to hearing from you.\\\\\\\\n\\\\\\\\nSincerely,\\\\\\\\nManab\\\\\"}\"'})], type='TEXT_CONTENT')], 'token_count': {'input_tokens': 2433.0, 'output_tokens': 234.0}}, response_metadata={'id': '92c0871e-2a66-46eb-9341-83e5fac08676', 'finish_reason': 'COMPLETE', 'content': '{\"From\": \"manab@example.com\", \"To\": \"professor@example.com\", \"Subject\": \"Potential Collaboration on AI Research\", \"Body\": \"Dear Professor,\\\\n\\\\nI hope this email finds you well.\\\\n\\\\nMy name is Manab, and I am writing to express my strong interest in collaborating on AI research projects within your research group. I have been following your work in [mention specific area of Professor\\'s research] with great interest, particularly [mention a specific publication or project if possible]. I believe my skills and experience in [mention your relevant skills], especially [mention a specific skill relevant to the professor\\'s work], could be a valuable asset to your team.\\\\n\\\\nI would be grateful for the opportunity to discuss potential collaboration opportunities in more detail. Would you be available for a brief meeting sometime next week? Please let me know your availability, or if another time would be more convenient.\\\\n\\\\nThank you for your time and consideration. I look forward to hearing from you.\\\\n\\\\nSincerely,\\\\nManab\"}', 'citations': [Citation(start=0, end=1027, text='{\"From\": \"manab@example.com\", \"To\": \"professor@example.com\", \"Subject\": \"Potential Collaboration on AI Research\", \"Body\": \"Dear Professor,\\\\n\\\\nI hope this email finds you well.\\\\n\\\\nMy name is Manab, and I am writing to express my strong interest in collaborating on AI research projects within your research group. I have been following your work in [mention specific area of Professor\\'s research] with great interest, particularly [mention a specific publication or project if possible]. I believe my skills and experience in [mention your relevant skills], especially [mention a specific skill relevant to the professor\\'s work], could be a valuable asset to your team.\\\\n\\\\nI would be grateful for the opportunity to discuss potential collaboration opportunities in more detail. Would you be available for a brief meeting sometime next week? Please let me know your availability, or if another time would be more convenient.\\\\n\\\\nThank you for your time and consideration. I look forward to hearing from you.\\\\n\\\\nSincerely,\\\\nManab\"}', sources=[ToolSource(type='tool', id='composing_email_tool_jepx1c09s5cf:0', tool_output={'output': '\"{\\\\\"From\\\\\": \\\\\"manab@example.com\\\\\", \\\\\"To\\\\\": \\\\\"professor@example.com\\\\\", \\\\\"Subject\\\\\": \\\\\"Potential Collaboration on AI Research\\\\\", \\\\\"Body\\\\\": \\\\\"Dear Professor,\\\\\\\\n\\\\\\\\nI hope this email finds you well.\\\\\\\\n\\\\\\\\nMy name is Manab, and I am writing to express my strong interest in collaborating on AI research projects within your research group. I have been following your work in [mention specific area of Professor\\'s research] with great interest, particularly [mention a specific publication or project if possible]. I believe my skills and experience in [mention your relevant skills], especially [mention a specific skill relevant to the professor\\'s work], could be a valuable asset to your team.\\\\\\\\n\\\\\\\\nI would be grateful for the opportunity to discuss potential collaboration opportunities in more detail. Would you be available for a brief meeting sometime next week? Please let me know your availability, or if another time would be more convenient.\\\\\\\\n\\\\\\\\nThank you for your time and consideration. I look forward to hearing from you.\\\\\\\\n\\\\\\\\nSincerely,\\\\\\\\nManab\\\\\"}\"'})], type='TEXT_CONTENT')], 'token_count': {'input_tokens': 2433.0, 'output_tokens': 234.0}}, id='run-ec43b9e6-8705-42cd-995e-d9c20670f9df-0', usage_metadata={'input_tokens': 2433, 'output_tokens': 234, 'total_tokens': 2667})]\n"
     ]
    }
   ],
   "source": [
    "print(response[\"messages\"])"
   ]
  },
  {
   "cell_type": "code",
   "execution_count": 9,
   "id": "92740e2e",
   "metadata": {},
   "outputs": [
    {
     "data": {
      "text/plain": [
       "AIMessage(content='{\"From\": \"manab@example.com\", \"To\": \"professor@example.com\", \"Subject\": \"Potential Collaboration on AI Research\", \"Body\": \"Dear Professor,\\\\n\\\\nI hope this email finds you well.\\\\n\\\\nMy name is Manab, and I am writing to express my strong interest in collaborating on AI research projects within your research group. I have been following your work in [mention specific area of Professor\\'s research] with great interest, particularly [mention a specific publication or project if possible]. I believe my skills and experience in [mention your relevant skills], especially [mention a specific skill relevant to the professor\\'s work], could be a valuable asset to your team.\\\\n\\\\nI would be grateful for the opportunity to discuss potential collaboration opportunities in more detail. Would you be available for a brief meeting sometime next week? Please let me know your availability, or if another time would be more convenient.\\\\n\\\\nThank you for your time and consideration. I look forward to hearing from you.\\\\n\\\\nSincerely,\\\\nManab\"}', additional_kwargs={'id': '92c0871e-2a66-46eb-9341-83e5fac08676', 'finish_reason': 'COMPLETE', 'content': '{\"From\": \"manab@example.com\", \"To\": \"professor@example.com\", \"Subject\": \"Potential Collaboration on AI Research\", \"Body\": \"Dear Professor,\\\\n\\\\nI hope this email finds you well.\\\\n\\\\nMy name is Manab, and I am writing to express my strong interest in collaborating on AI research projects within your research group. I have been following your work in [mention specific area of Professor\\'s research] with great interest, particularly [mention a specific publication or project if possible]. I believe my skills and experience in [mention your relevant skills], especially [mention a specific skill relevant to the professor\\'s work], could be a valuable asset to your team.\\\\n\\\\nI would be grateful for the opportunity to discuss potential collaboration opportunities in more detail. Would you be available for a brief meeting sometime next week? Please let me know your availability, or if another time would be more convenient.\\\\n\\\\nThank you for your time and consideration. I look forward to hearing from you.\\\\n\\\\nSincerely,\\\\nManab\"}', 'citations': [Citation(start=0, end=1027, text='{\"From\": \"manab@example.com\", \"To\": \"professor@example.com\", \"Subject\": \"Potential Collaboration on AI Research\", \"Body\": \"Dear Professor,\\\\n\\\\nI hope this email finds you well.\\\\n\\\\nMy name is Manab, and I am writing to express my strong interest in collaborating on AI research projects within your research group. I have been following your work in [mention specific area of Professor\\'s research] with great interest, particularly [mention a specific publication or project if possible]. I believe my skills and experience in [mention your relevant skills], especially [mention a specific skill relevant to the professor\\'s work], could be a valuable asset to your team.\\\\n\\\\nI would be grateful for the opportunity to discuss potential collaboration opportunities in more detail. Would you be available for a brief meeting sometime next week? Please let me know your availability, or if another time would be more convenient.\\\\n\\\\nThank you for your time and consideration. I look forward to hearing from you.\\\\n\\\\nSincerely,\\\\nManab\"}', sources=[ToolSource(type='tool', id='composing_email_tool_jepx1c09s5cf:0', tool_output={'output': '\"{\\\\\"From\\\\\": \\\\\"manab@example.com\\\\\", \\\\\"To\\\\\": \\\\\"professor@example.com\\\\\", \\\\\"Subject\\\\\": \\\\\"Potential Collaboration on AI Research\\\\\", \\\\\"Body\\\\\": \\\\\"Dear Professor,\\\\\\\\n\\\\\\\\nI hope this email finds you well.\\\\\\\\n\\\\\\\\nMy name is Manab, and I am writing to express my strong interest in collaborating on AI research projects within your research group. I have been following your work in [mention specific area of Professor\\'s research] with great interest, particularly [mention a specific publication or project if possible]. I believe my skills and experience in [mention your relevant skills], especially [mention a specific skill relevant to the professor\\'s work], could be a valuable asset to your team.\\\\\\\\n\\\\\\\\nI would be grateful for the opportunity to discuss potential collaboration opportunities in more detail. Would you be available for a brief meeting sometime next week? Please let me know your availability, or if another time would be more convenient.\\\\\\\\n\\\\\\\\nThank you for your time and consideration. I look forward to hearing from you.\\\\\\\\n\\\\\\\\nSincerely,\\\\\\\\nManab\\\\\"}\"'})], type='TEXT_CONTENT')], 'token_count': {'input_tokens': 2433.0, 'output_tokens': 234.0}}, response_metadata={'id': '92c0871e-2a66-46eb-9341-83e5fac08676', 'finish_reason': 'COMPLETE', 'content': '{\"From\": \"manab@example.com\", \"To\": \"professor@example.com\", \"Subject\": \"Potential Collaboration on AI Research\", \"Body\": \"Dear Professor,\\\\n\\\\nI hope this email finds you well.\\\\n\\\\nMy name is Manab, and I am writing to express my strong interest in collaborating on AI research projects within your research group. I have been following your work in [mention specific area of Professor\\'s research] with great interest, particularly [mention a specific publication or project if possible]. I believe my skills and experience in [mention your relevant skills], especially [mention a specific skill relevant to the professor\\'s work], could be a valuable asset to your team.\\\\n\\\\nI would be grateful for the opportunity to discuss potential collaboration opportunities in more detail. Would you be available for a brief meeting sometime next week? Please let me know your availability, or if another time would be more convenient.\\\\n\\\\nThank you for your time and consideration. I look forward to hearing from you.\\\\n\\\\nSincerely,\\\\nManab\"}', 'citations': [Citation(start=0, end=1027, text='{\"From\": \"manab@example.com\", \"To\": \"professor@example.com\", \"Subject\": \"Potential Collaboration on AI Research\", \"Body\": \"Dear Professor,\\\\n\\\\nI hope this email finds you well.\\\\n\\\\nMy name is Manab, and I am writing to express my strong interest in collaborating on AI research projects within your research group. I have been following your work in [mention specific area of Professor\\'s research] with great interest, particularly [mention a specific publication or project if possible]. I believe my skills and experience in [mention your relevant skills], especially [mention a specific skill relevant to the professor\\'s work], could be a valuable asset to your team.\\\\n\\\\nI would be grateful for the opportunity to discuss potential collaboration opportunities in more detail. Would you be available for a brief meeting sometime next week? Please let me know your availability, or if another time would be more convenient.\\\\n\\\\nThank you for your time and consideration. I look forward to hearing from you.\\\\n\\\\nSincerely,\\\\nManab\"}', sources=[ToolSource(type='tool', id='composing_email_tool_jepx1c09s5cf:0', tool_output={'output': '\"{\\\\\"From\\\\\": \\\\\"manab@example.com\\\\\", \\\\\"To\\\\\": \\\\\"professor@example.com\\\\\", \\\\\"Subject\\\\\": \\\\\"Potential Collaboration on AI Research\\\\\", \\\\\"Body\\\\\": \\\\\"Dear Professor,\\\\\\\\n\\\\\\\\nI hope this email finds you well.\\\\\\\\n\\\\\\\\nMy name is Manab, and I am writing to express my strong interest in collaborating on AI research projects within your research group. I have been following your work in [mention specific area of Professor\\'s research] with great interest, particularly [mention a specific publication or project if possible]. I believe my skills and experience in [mention your relevant skills], especially [mention a specific skill relevant to the professor\\'s work], could be a valuable asset to your team.\\\\\\\\n\\\\\\\\nI would be grateful for the opportunity to discuss potential collaboration opportunities in more detail. Would you be available for a brief meeting sometime next week? Please let me know your availability, or if another time would be more convenient.\\\\\\\\n\\\\\\\\nThank you for your time and consideration. I look forward to hearing from you.\\\\\\\\n\\\\\\\\nSincerely,\\\\\\\\nManab\\\\\"}\"'})], type='TEXT_CONTENT')], 'token_count': {'input_tokens': 2433.0, 'output_tokens': 234.0}}, id='run-ec43b9e6-8705-42cd-995e-d9c20670f9df-0', usage_metadata={'input_tokens': 2433, 'output_tokens': 234, 'total_tokens': 2667})"
      ]
     },
     "execution_count": 9,
     "metadata": {},
     "output_type": "execute_result"
    }
   ],
   "source": [
    "response[\"messages\"][-1]"
   ]
  },
  {
   "cell_type": "code",
   "execution_count": 10,
   "id": "e081f98c",
   "metadata": {},
   "outputs": [
    {
     "name": "stdout",
     "output_type": "stream",
     "text": [
      "AIMessage(content='{\"From\": \"manab@example.com\", \"To\": \"professor@example.com\", \"Subject\": \"Potential Collaboration on AI Research\", \"Body\": \"Dear Professor,\\\\n\\\\nI hope this email finds you well.\\\\n\\\\nMy name is Manab, and I am writing to express my strong interest in collaborating on AI research projects within your research group. I have been following your work in [mention specific area of Professor\\'s research] with great interest, particularly [mention a specific publication or project if possible]. I believe my skills and experience in [mention your relevant skills], especially [mention a specific skill relevant to the professor\\'s work], could be a valuable asset to your team.\\\\n\\\\nI would be grateful for the opportunity to discuss potential collaboration opportunities in more detail. Would you be available for a brief meeting sometime next week? Please let me know your availability, or if another time would be more convenient.\\\\n\\\\nThank you for your time and consideration. I look forward to hearing from you.\\\\n\\\\nSincerely,\\\\nManab\"}', additional_kwargs={'id': '92c0871e-2a66-46eb-9341-83e5fac08676', 'finish_reason': 'COMPLETE', 'content': '{\"From\": \"manab@example.com\", \"To\": \"professor@example.com\", \"Subject\": \"Potential Collaboration on AI Research\", \"Body\": \"Dear Professor,\\\\n\\\\nI hope this email finds you well.\\\\n\\\\nMy name is Manab, and I am writing to express my strong interest in collaborating on AI research projects within your research group. I have been following your work in [mention specific area of Professor\\'s research] with great interest, particularly [mention a specific publication or project if possible]. I believe my skills and experience in [mention your relevant skills], especially [mention a specific skill relevant to the professor\\'s work], could be a valuable asset to your team.\\\\n\\\\nI would be grateful for the opportunity to discuss potential collaboration opportunities in more detail. Would you be available for a brief meeting sometime next week? Please let me know your availability, or if another time would be more convenient.\\\\n\\\\nThank you for your time and consideration. I look forward to hearing from you.\\\\n\\\\nSincerely,\\\\nManab\"}', 'citations': [Citation(start=0, end=1027, text='{\"From\": \"manab@example.com\", \"To\": \"professor@example.com\", \"Subject\": \"Potential Collaboration on AI Research\", \"Body\": \"Dear Professor,\\\\n\\\\nI hope this email finds you well.\\\\n\\\\nMy name is Manab, and I am writing to express my strong interest in collaborating on AI research projects within your research group. I have been following your work in [mention specific area of Professor\\'s research] with great interest, particularly [mention a specific publication or project if possible]. I believe my skills and experience in [mention your relevant skills], especially [mention a specific skill relevant to the professor\\'s work], could be a valuable asset to your team.\\\\n\\\\nI would be grateful for the opportunity to discuss potential collaboration opportunities in more detail. Would you be available for a brief meeting sometime next week? Please let me know your availability, or if another time would be more convenient.\\\\n\\\\nThank you for your time and consideration. I look forward to hearing from you.\\\\n\\\\nSincerely,\\\\nManab\"}', sources=[ToolSource(type='tool', id='composing_email_tool_jepx1c09s5cf:0', tool_output={'output': '\"{\\\\\"From\\\\\": \\\\\"manab@example.com\\\\\", \\\\\"To\\\\\": \\\\\"professor@example.com\\\\\", \\\\\"Subject\\\\\": \\\\\"Potential Collaboration on AI Research\\\\\", \\\\\"Body\\\\\": \\\\\"Dear Professor,\\\\\\\\n\\\\\\\\nI hope this email finds you well.\\\\\\\\n\\\\\\\\nMy name is Manab, and I am writing to express my strong interest in collaborating on AI research projects within your research group. I have been following your work in [mention specific area of Professor\\'s research] with great interest, particularly [mention a specific publication or project if possible]. I believe my skills and experience in [mention your relevant skills], especially [mention a specific skill relevant to the professor\\'s work], could be a valuable asset to your team.\\\\\\\\n\\\\\\\\nI would be grateful for the opportunity to discuss potential collaboration opportunities in more detail. Would you be available for a brief meeting sometime next week? Please let me know your availability, or if another time would be more convenient.\\\\\\\\n\\\\\\\\nThank you for your time and consideration. I look forward to hearing from you.\\\\\\\\n\\\\\\\\nSincerely,\\\\\\\\nManab\\\\\"}\"'})], type='TEXT_CONTENT')], 'token_count': {'input_tokens': 2433.0, 'output_tokens': 234.0}}, response_metadata={'id': '92c0871e-2a66-46eb-9341-83e5fac08676', 'finish_reason': 'COMPLETE', 'content': '{\"From\": \"manab@example.com\", \"To\": \"professor@example.com\", \"Subject\": \"Potential Collaboration on AI Research\", \"Body\": \"Dear Professor,\\\\n\\\\nI hope this email finds you well.\\\\n\\\\nMy name is Manab, and I am writing to express my strong interest in collaborating on AI research projects within your research group. I have been following your work in [mention specific area of Professor\\'s research] with great interest, particularly [mention a specific publication or project if possible]. I believe my skills and experience in [mention your relevant skills], especially [mention a specific skill relevant to the professor\\'s work], could be a valuable asset to your team.\\\\n\\\\nI would be grateful for the opportunity to discuss potential collaboration opportunities in more detail. Would you be available for a brief meeting sometime next week? Please let me know your availability, or if another time would be more convenient.\\\\n\\\\nThank you for your time and consideration. I look forward to hearing from you.\\\\n\\\\nSincerely,\\\\nManab\"}', 'citations': [Citation(start=0, end=1027, text='{\"From\": \"manab@example.com\", \"To\": \"professor@example.com\", \"Subject\": \"Potential Collaboration on AI Research\", \"Body\": \"Dear Professor,\\\\n\\\\nI hope this email finds you well.\\\\n\\\\nMy name is Manab, and I am writing to express my strong interest in collaborating on AI research projects within your research group. I have been following your work in [mention specific area of Professor\\'s research] with great interest, particularly [mention a specific publication or project if possible]. I believe my skills and experience in [mention your relevant skills], especially [mention a specific skill relevant to the professor\\'s work], could be a valuable asset to your team.\\\\n\\\\nI would be grateful for the opportunity to discuss potential collaboration opportunities in more detail. Would you be available for a brief meeting sometime next week? Please let me know your availability, or if another time would be more convenient.\\\\n\\\\nThank you for your time and consideration. I look forward to hearing from you.\\\\n\\\\nSincerely,\\\\nManab\"}', sources=[ToolSource(type='tool', id='composing_email_tool_jepx1c09s5cf:0', tool_output={'output': '\"{\\\\\"From\\\\\": \\\\\"manab@example.com\\\\\", \\\\\"To\\\\\": \\\\\"professor@example.com\\\\\", \\\\\"Subject\\\\\": \\\\\"Potential Collaboration on AI Research\\\\\", \\\\\"Body\\\\\": \\\\\"Dear Professor,\\\\\\\\n\\\\\\\\nI hope this email finds you well.\\\\\\\\n\\\\\\\\nMy name is Manab, and I am writing to express my strong interest in collaborating on AI research projects within your research group. I have been following your work in [mention specific area of Professor\\'s research] with great interest, particularly [mention a specific publication or project if possible]. I believe my skills and experience in [mention your relevant skills], especially [mention a specific skill relevant to the professor\\'s work], could be a valuable asset to your team.\\\\\\\\n\\\\\\\\nI would be grateful for the opportunity to discuss potential collaboration opportunities in more detail. Would you be available for a brief meeting sometime next week? Please let me know your availability, or if another time would be more convenient.\\\\\\\\n\\\\\\\\nThank you for your time and consideration. I look forward to hearing from you.\\\\\\\\n\\\\\\\\nSincerely,\\\\\\\\nManab\\\\\"}\"'})], type='TEXT_CONTENT')], 'token_count': {'input_tokens': 2433.0, 'output_tokens': 234.0}}, id='run-ec43b9e6-8705-42cd-995e-d9c20670f9df-0', usage_metadata={'input_tokens': 2433, 'output_tokens': 234, 'total_tokens': 2667})\n"
     ]
    }
   ],
   "source": [
    "pprint(response[\"messages\"][-1])"
   ]
  },
  {
   "cell_type": "code",
   "execution_count": 12,
   "id": "1364a950",
   "metadata": {},
   "outputs": [],
   "source": [
    "from langchain_core.output_parsers import StrOutputParser\n",
    "import json"
   ]
  },
  {
   "cell_type": "code",
   "execution_count": 11,
   "id": "26dc7c53",
   "metadata": {},
   "outputs": [
    {
     "name": "stdout",
     "output_type": "stream",
     "text": [
      "('{\"From\": \"manab@example.com\", \"To\": \"professor@example.com\", \"Subject\": '\n",
      " '\"Potential Collaboration on AI Research\", \"Body\": \"Dear Professor,\\\\n\\\\nI '\n",
      " 'hope this email finds you well.\\\\n\\\\nMy name is Manab, and I am writing to '\n",
      " 'express my strong interest in collaborating on AI research projects within '\n",
      " 'your research group. I have been following your work in [mention specific '\n",
      " \"area of Professor's research] with great interest, particularly [mention a \"\n",
      " 'specific publication or project if possible]. I believe my skills and '\n",
      " 'experience in [mention your relevant skills], especially [mention a specific '\n",
      " \"skill relevant to the professor's work], could be a valuable asset to your \"\n",
      " 'team.\\\\n\\\\nI would be grateful for the opportunity to discuss potential '\n",
      " 'collaboration opportunities in more detail. Would you be available for a '\n",
      " 'brief meeting sometime next week? Please let me know your availability, or '\n",
      " 'if another time would be more convenient.\\\\n\\\\nThank you for your time and '\n",
      " 'consideration. I look forward to hearing from you.\\\\n\\\\nSincerely,\\\\nManab\"}')\n"
     ]
    }
   ],
   "source": [
    "pprint(response[\"messages\"][-1].content)"
   ]
  },
  {
   "cell_type": "code",
   "execution_count": 13,
   "id": "5938e342",
   "metadata": {},
   "outputs": [
    {
     "name": "stdout",
     "output_type": "stream",
     "text": [
      "tool call for search_recall_memories\n",
      "\n",
      "Refined Email Response:\n",
      " {'recall_memories': ['{\"From\": \"manab@example.com\", \"To\": \"professor@example.com\", \"Subject\": \"Potential Collaboration on AI Research\", \"Body\": \"Dear Professor,\\\\n\\\\nI hope this email finds you well.\\\\n\\\\nI am writing to inquire about the possibility of collaborating on AI-related research. I am very interested in your work and believe that our combined expertise could lead to a fruitful partnership.\\\\n\\\\nWould you be available to discuss this further sometime next week? Please let me know what time works best for you.\\\\n\\\\nThank you for your time and consideration.\\\\n\\\\nSincerely,\\\\nManab\"}', '{\"From\": \"manab@example.com\", \"To\": \"professor@example.com\", \"Subject\": \"Potential Collaboration on AI Research\", \"Body\": \"Dear Professor,\\\\n\\\\nI hope this email finds you well.\\\\n\\\\nMy name is Manab, and I am writing to express my strong interest in collaborating on AI research projects within your research group. I have been following your work in [mention specific area of Professor\\'s research] with great interest, particularly [mention a specific publication or project if possible]. I believe my skills and experience in [mention your relevant skills], especially [mention a specific skill relevant to the professor\\'s work], could be a valuable asset to your team.\\\\n\\\\nI would be grateful for the opportunity to discuss potential collaboration opportunities in more detail. Would you be available for a brief meeting sometime next week? Please let me know your availability, or if another time would be more convenient.\\\\n\\\\nThank you for your time and consideration. I look forward to hearing from you.\\\\n\\\\nSincerely,\\\\nManab\"}', '{\"From\": \"manab@example.com\", \"To\": \"professor@example.com\", \"Subject\": \"Potential Collaboration on AI Research\", \"Body\": \"Dear Professor,\\\\n\\\\nI hope this email finds you well.\\\\n\\\\nMy name is Manab, and I am writing to express my strong interest in collaborating on AI research projects within your research group. I have been following your work in [mention specific area of Professor\\'s research] with great interest, particularly [mention a specific publication or project if possible]. I believe my skills and experience in [mention your relevant skills], especially [mention a specific skill relevant to the professor\\'s work], could be a valuable asset to your team.\\\\n\\\\nI would be grateful for the opportunity to discuss potential collaboration opportunities in more detail. Would you be available for a brief meeting sometime next week? Please let me know your availability, or if another time would be more convenient.\\\\n\\\\nThank you for your time and consideration. I look forward to hearing from you.\\\\n\\\\nSincerely,\\\\nManab\"}'], 'messages': [HumanMessage(content='\\nYou are an expert email assistant. Please refine the following draft email to make it more formal, polished, and professional:\\n\\nDraft Email:\\nfrom: manab@example.com\\nto: professor@example.com\\nsubject: project collab\\nbody:\\nhi,  \\ni wanted to check if we can work together on some AI stuff. maybe we can talk next week? let me know.  \\n\\nthanks  \\nmanab\\n', additional_kwargs={}, response_metadata={}, id='85fb790d-879b-4de8-a539-1b8eebf718ea'), AIMessage(content='Here is a refined version of your draft email:\\n\\n**From:** manab@example.com\\n**To:** professor@example.com\\n**Subject:** Potential Collaboration on AI Research\\n\\nDear Professor,\\n\\nI hope this email finds you well.\\n\\nI am writing to express my interest in exploring potential collaboration opportunities on AI-related projects. Given your esteemed expertise in the field, I believe that our combined knowledge and skills could lead to a productive and mutually beneficial partnership.\\n\\nI would greatly appreciate the opportunity to discuss this further and share my ideas with you. Would you be available for a brief meeting or call sometime next week? Please let me know your preferred date and time, and I will make sure to accommodate your schedule.\\n\\nThank you for considering my request. I look forward to the possibility of working with you and contributing to your research endeavors.\\n\\nBest regards,\\nManab', additional_kwargs={'id': '45ad4eb2-ae57-4b0d-9ede-8024fdd7cd3e', 'finish_reason': 'COMPLETE', 'content': 'Here is a refined version of your draft email:\\n\\n**From:** manab@example.com\\n**To:** professor@example.com\\n**Subject:** Potential Collaboration on AI Research\\n\\nDear Professor,\\n\\nI hope this email finds you well.\\n\\nI am writing to express my interest in exploring potential collaboration opportunities on AI-related projects. Given your esteemed expertise in the field, I believe that our combined knowledge and skills could lead to a productive and mutually beneficial partnership.\\n\\nI would greatly appreciate the opportunity to discuss this further and share my ideas with you. Would you be available for a brief meeting or call sometime next week? Please let me know your preferred date and time, and I will make sure to accommodate your schedule.\\n\\nThank you for considering my request. I look forward to the possibility of working with you and contributing to your research endeavors.\\n\\nBest regards,\\nManab', 'token_count': {'input_tokens': 2619.0, 'output_tokens': 189.0}}, response_metadata={'id': '45ad4eb2-ae57-4b0d-9ede-8024fdd7cd3e', 'finish_reason': 'COMPLETE', 'content': 'Here is a refined version of your draft email:\\n\\n**From:** manab@example.com\\n**To:** professor@example.com\\n**Subject:** Potential Collaboration on AI Research\\n\\nDear Professor,\\n\\nI hope this email finds you well.\\n\\nI am writing to express my interest in exploring potential collaboration opportunities on AI-related projects. Given your esteemed expertise in the field, I believe that our combined knowledge and skills could lead to a productive and mutually beneficial partnership.\\n\\nI would greatly appreciate the opportunity to discuss this further and share my ideas with you. Would you be available for a brief meeting or call sometime next week? Please let me know your preferred date and time, and I will make sure to accommodate your schedule.\\n\\nThank you for considering my request. I look forward to the possibility of working with you and contributing to your research endeavors.\\n\\nBest regards,\\nManab', 'token_count': {'input_tokens': 2619.0, 'output_tokens': 189.0}}, id='run-34d9dcf6-06b4-45e9-89c3-0c1f3e7b3a95-0', usage_metadata={'input_tokens': 2619, 'output_tokens': 189, 'total_tokens': 2808})]}\n"
     ]
    }
   ],
   "source": [
    "\n",
    "from langchain_core.runnables import RunnableConfig\n",
    "import uuid\n",
    "\n",
    "config = RunnableConfig(configurable={\n",
    "    \"user_id\": \"user_123\",\n",
    "    \"thread_id\": str(uuid.uuid4())\n",
    "})\n",
    "\n",
    "response = main_agent.invoke(\n",
    "    {\n",
    "        \"messages\": [\n",
    "            {\n",
    "                \"role\": \"user\",\n",
    "                \"content\": \"\"\"\n",
    "You are an expert email assistant. Please refine the following draft email to make it more formal, polished, and professional:\n",
    "\n",
    "Draft Email:\n",
    "from: manab@example.com\n",
    "to: professor@example.com\n",
    "subject: project collab\n",
    "body:\n",
    "hi,  \n",
    "i wanted to check if we can work together on some AI stuff. maybe we can talk next week? let me know.  \n",
    "\n",
    "thanks  \n",
    "manab\n",
    "\"\"\"\n",
    "            }\n",
    "        ]\n",
    "    },\n",
    "    config=config\n",
    ")\n",
    "\n",
    "print(\"\\nRefined Email Response:\\n\", response)\n",
    "\n",
    "\n"
   ]
  },
  {
   "cell_type": "code",
   "execution_count": 14,
   "id": "e2a6d01e",
   "metadata": {},
   "outputs": [
    {
     "name": "stdout",
     "output_type": "stream",
     "text": [
      "('Here is a refined version of your draft email:\\n'\n",
      " '\\n'\n",
      " '**From:** manab@example.com\\n'\n",
      " '**To:** professor@example.com\\n'\n",
      " '**Subject:** Potential Collaboration on AI Research\\n'\n",
      " '\\n'\n",
      " 'Dear Professor,\\n'\n",
      " '\\n'\n",
      " 'I hope this email finds you well.\\n'\n",
      " '\\n'\n",
      " 'I am writing to express my interest in exploring potential collaboration '\n",
      " 'opportunities on AI-related projects. Given your esteemed expertise in the '\n",
      " 'field, I believe that our combined knowledge and skills could lead to a '\n",
      " 'productive and mutually beneficial partnership.\\n'\n",
      " '\\n'\n",
      " 'I would greatly appreciate the opportunity to discuss this further and share '\n",
      " 'my ideas with you. Would you be available for a brief meeting or call '\n",
      " 'sometime next week? Please let me know your preferred date and time, and I '\n",
      " 'will make sure to accommodate your schedule.\\n'\n",
      " '\\n'\n",
      " 'Thank you for considering my request. I look forward to the possibility of '\n",
      " 'working with you and contributing to your research endeavors.\\n'\n",
      " '\\n'\n",
      " 'Best regards,\\n'\n",
      " 'Manab')\n"
     ]
    }
   ],
   "source": [
    "result = response[\"messages\"][-1].content\n",
    "pprint(result)"
   ]
  },
  {
   "cell_type": "code",
   "execution_count": 15,
   "id": "3282f58b",
   "metadata": {},
   "outputs": [
    {
     "name": "stdout",
     "output_type": "stream",
     "text": [
      "tool call for search_recall_memories\n",
      "last_message:content='I will use the reply_agent_tool to generate a reply to the email.' additional_kwargs={'id': '1e00a516-f646-4c06-866e-5bb588351bcc', 'finish_reason': 'TOOL_CALL', 'tool_plan': 'I will use the reply_agent_tool to generate a reply to the email.', 'tool_calls': [{'id': 'reply_agent_tool_1dp5tyg7ys95', 'type': 'function', 'function': {'name': 'reply_agent_tool', 'arguments': '{\"email_input\":{\"from\":\"professor@example.com\",\"to\":\"manab@example.com\",\"subject\":\"Re: Request for Project Collaboration\",\"body\":\"Dear Manab,\\\\nThank you for reaching out. I\\'m open to the idea of collaborating on AI research. Could you share a brief overview of your current work and areas of interest?\\\\nBest regards,\\\\nProfessor Sharma\"},\"query\":\"Reply to the following email professionally:\",\"previous_responses\":\"\"}'}}], 'token_count': {'input_tokens': 2039.0, 'output_tokens': 155.0}} response_metadata={'id': '1e00a516-f646-4c06-866e-5bb588351bcc', 'finish_reason': 'TOOL_CALL', 'tool_plan': 'I will use the reply_agent_tool to generate a reply to the email.', 'tool_calls': [{'id': 'reply_agent_tool_1dp5tyg7ys95', 'type': 'function', 'function': {'name': 'reply_agent_tool', 'arguments': '{\"email_input\":{\"from\":\"professor@example.com\",\"to\":\"manab@example.com\",\"subject\":\"Re: Request for Project Collaboration\",\"body\":\"Dear Manab,\\\\nThank you for reaching out. I\\'m open to the idea of collaborating on AI research. Could you share a brief overview of your current work and areas of interest?\\\\nBest regards,\\\\nProfessor Sharma\"},\"query\":\"Reply to the following email professionally:\",\"previous_responses\":\"\"}'}}], 'token_count': {'input_tokens': 2039.0, 'output_tokens': 155.0}} id='run-f3771d0b-d50c-4de9-a4c3-3a059046f939-0' tool_calls=[{'name': 'reply_agent_tool', 'args': {'email_input': {'from': 'professor@example.com', 'to': 'manab@example.com', 'subject': 'Re: Request for Project Collaboration', 'body': \"Dear Manab,\\nThank you for reaching out. I'm open to the idea of collaborating on AI research. Could you share a brief overview of your current work and areas of interest?\\nBest regards,\\nProfessor Sharma\"}, 'query': 'Reply to the following email professionally:', 'previous_responses': ''}, 'id': 'reply_agent_tool_1dp5tyg7ys95', 'type': 'tool_call'}] usage_metadata={'input_tokens': 2039, 'output_tokens': 155, 'total_tokens': 2194}\n",
      "tool call for reply_agent_tool\n",
      "tool call for Retrieve_data\n",
      "\n",
      "[Retrieved Documents]\n",
      "- Response samples 200Content typeapplication/jsonapplication/jsontext/jsonCopy Expand all  Collapse all {\"id\": 0,\"type\": \"standard\",\"purchase_order_number\": \"string\",\"date\": \"2019-08-24T14:15:22Z\",\"status\": \"awaiting_receipt\",\"warehouse\": {\"id\": \"497f6eca-6276-4993-bfeb-53cbbbba6f08\",\"name\": \"string\"},\"vendor\": {\"id\": 0,\"name\": \"string\"},\"vendor_purchase_order\": {\"purchase_order_number\": \"string\",\"is_submitted\": true},\"charges\": [{\"amount\": 0,\"currency\": {\"code\": \"unknown\",\"exchange_rate\": 0},\"type\": \"discount\"}],\"shipment\": {\"expected_at\": \"2019-08-24T14:15:22Z\",\"type\": \"small_parcel\",\"carrier\": \"amazon_logistics\",\"shipping_method\": \"amazon_logistics_us_bulk\",\"address\": {\"company\": \"string\",\"street1\": \"string\",\"street2\": \"string\",\"city\": \"string\",\"state\": \"string\",\"zip_code\": \"string\",\"country_code\": \"ad\",\"email\": \"string\",\"phone\": \"string\",\"phone_extension\": \"string\"}},\"lines\": [{\"id\": 0,\"product\": {\"id\": 0,\"item_number\": \"string\",\"name\": \"string\"},\"vendor_item_number\": \"string\",\"quantity\": {\"amount\": 0,\"measure\": {\"amount\": 0,\"abbreviation\": \"string\"}},\"price\": {\"amount\": 0,\"currency\": {\"code\": \"unknown\",\"exchange_rate\": 0}},\"units_received\": 0}],\"tags\": [{\"id\": \"string\",\"name\": \"string\"}],\"notes\": [{\"created_at\": \"2019-08-24T14:15:22Z\",\"updated_at\": \"2019-08-24T14:15:22Z\",\"text\": \"string\"}],\"summary\": {\"subtotal\": {\"amount\": 0,\"currency\": {\"code\": \"unknown\",\"exchange_rate\": 0}},\"total\": {\"amount\": 0,\"currency\": {\"code\": \"unknown\",\"exchange_rate\": 0}}},\"meta\": {\"created\": {\"at\":\n",
      "- Response samples 200Content typeapplication/jsonapplication/jsontext/jsonCopy Expand all  Collapse all {\"data\": [{\"id\": 0,\"type\": \"standard\",\"purchase_order_number\": \"string\",\"date\": \"2019-08-24T14:15:22Z\",\"status\": \"awaiting_receipt\",\"warehouse\": {\"id\": \"497f6eca-6276-4993-bfeb-53cbbbba6f08\",\"name\": \"string\"},\"vendor\": {\"id\": 0,\"name\": \"string\"},\"vendor_purchase_order\": {\"purchase_order_number\": \"string\",\"is_submitted\": true},\"charges\": [{\"amount\": 0,\"currency\": {\"code\": \"unknown\",\"exchange_rate\": 0},\"type\": \"discount\"}],\"shipment\": {\"expected_at\": \"2019-08-24T14:15:22Z\",\"type\": \"small_parcel\",\"carrier\": \"amazon_logistics\",\"shipping_method\": \"amazon_logistics_us_bulk\",\"address\": {\"company\": \"string\",\"street1\": \"string\",\"street2\": \"string\",\"city\": \"string\",\"state\": \"string\",\"zip_code\": \"string\",\"country_code\": \"ad\",\"email\": \"string\",\"phone\": \"string\",\"phone_extension\": \"string\"}},\"lines\": [{\"id\": 0,\"product\": {\"id\": 0,\"item_number\": \"string\",\"name\": \"string\"},\"vendor_item_number\": \"string\",\"quantity\": {\"amount\": 0,\"measure\": {\"amount\": 0,\"abbreviation\": \"string\"}},\"price\": {\"amount\": 0,\"currency\": {\"code\": \"unknown\",\"exchange_rate\": 0}},\"units_received\": 0}],\"tags\": [{\"id\": \"string\",\"name\": \"string\"}],\"notes\": [{\"created_at\": \"2019-08-24T14:15:22Z\",\"updated_at\": \"2019-08-24T14:15:22Z\",\"text\": \"string\"}],\"summary\": {\"subtotal\": {\"amount\": 0,\"currency\": {\"code\": \"unknown\",\"exchange_rate\": 0}},\"total\": {\"amount\": 0,\"currency\": {\"code\": \"unknown\",\"exchange_rate\": 0}}},\"meta\": {\"created\": {\"at\":\n",
      "- Request samples PayloadContent typeapplication/jsonapplication/jsontext/jsonapplication/*+jsonCopy Expand all  Collapse all {\"order\": {\"order_number\": \"string\",\"date\": \"2019-08-24T14:15:22Z\",\"store\": {\"id\": 0},\"warehouse\": {\"id\": \"497f6eca-6276-4993-bfeb-53cbbbba6f08\"},\"currency\": {\"code\": \"afn\",\"exchange_rate\": 0},\"lines\": [{\"product\": {\"id\": 0},\"listing\": {\"sku\": \"string\"},\"quantity\": {\"amount\": 1,\"measure\": {\"abbreviation\": \"string\"}},\"charges\": [{\"type\": \"price\",\"amount\": -10000000}],\"taxes\": [{\"type\": \"price\",\"amount\": 10000000}],\"costs\": [{\"type\": \"commission\",\"amount\": 10000000}],\"consumer_financials\": [{\"type\": \"price\",\"amount\": -10000000}],\"customization\": {\"text\": \"string\",\"data\": [{\"group\": \"string\",\"key\": \"string\",\"value\": \"string\"}]}}],\"billing_address\": {\"street1\": \"string\",\"street2\": \"string\",\"city\": \"string\",\"state\": \"string\",\"zip_code\": \"string\",\"country_code\": \"ad\",\"email\": \"user@example.com\",\"phone\": \"string\",\"phone_extension\": \"string\",\"first_name\": \"string\",\"last_name\": \"string\",\"company\": \"string\"},\"shipping_address\": {\"street1\": \"string\",\"street2\": \"string\",\"city\": \"string\",\"state\": \"string\",\"zip_code\": \"string\",\"country_code\": \"ad\",\"email\": \"user@example.com\",\"phone\": \"string\",\"phone_extension\": \"string\",\"first_name\": \"string\",\"last_name\": \"string\",\"company\": \"string\"},\"purchase_order_number\": \"string\",\"is_gift\": false,\"is_reserving_inventory\": true,\"shipment\": {\"type\": \"small_parcel\",\"shipping_method\": \"amazon_logistics_us_bulk\",\"scac\": \"string\",\"third_party_account\": {\"account_number\": \"string\",\"address\": {\"company\": \"string\",\"street1\": \"string\",\"city\": \"string\",\"state\":\n",
      "tool call for refinement_tool\n",
      "tool call for save_recall_memory\n",
      "tool call for save_recall_memory\n",
      "\n",
      "Reply Email Response:\n",
      " {'recall_memories': [], 'messages': [HumanMessage(content=\"Received Email:\\nfrom: professor@example.com  \\nto: manab@example.com  \\nsubject: Re: Request for Project Collaboration  \\nbody:\\nDear Manab,  \\nThank you for reaching out. I'm open to the idea of collaborating on AI research. Could you share a brief overview of your current work and areas of interest?  \\nBest regards,  \\nProfessor Sharma\\n\\nReply to the following email professionally:\", additional_kwargs={}, response_metadata={}, id='00af75c1-5ba4-4f32-9266-b6612c84d36d'), AIMessage(content='I will use the reply_agent_tool to generate a reply to the email.', additional_kwargs={'id': '1e00a516-f646-4c06-866e-5bb588351bcc', 'finish_reason': 'TOOL_CALL', 'tool_plan': 'I will use the reply_agent_tool to generate a reply to the email.', 'tool_calls': [{'id': 'reply_agent_tool_1dp5tyg7ys95', 'type': 'function', 'function': {'name': 'reply_agent_tool', 'arguments': '{\"email_input\":{\"from\":\"professor@example.com\",\"to\":\"manab@example.com\",\"subject\":\"Re: Request for Project Collaboration\",\"body\":\"Dear Manab,\\\\nThank you for reaching out. I\\'m open to the idea of collaborating on AI research. Could you share a brief overview of your current work and areas of interest?\\\\nBest regards,\\\\nProfessor Sharma\"},\"query\":\"Reply to the following email professionally:\",\"previous_responses\":\"\"}'}}], 'token_count': {'input_tokens': 2039.0, 'output_tokens': 155.0}}, response_metadata={'id': '1e00a516-f646-4c06-866e-5bb588351bcc', 'finish_reason': 'TOOL_CALL', 'tool_plan': 'I will use the reply_agent_tool to generate a reply to the email.', 'tool_calls': [{'id': 'reply_agent_tool_1dp5tyg7ys95', 'type': 'function', 'function': {'name': 'reply_agent_tool', 'arguments': '{\"email_input\":{\"from\":\"professor@example.com\",\"to\":\"manab@example.com\",\"subject\":\"Re: Request for Project Collaboration\",\"body\":\"Dear Manab,\\\\nThank you for reaching out. I\\'m open to the idea of collaborating on AI research. Could you share a brief overview of your current work and areas of interest?\\\\nBest regards,\\\\nProfessor Sharma\"},\"query\":\"Reply to the following email professionally:\",\"previous_responses\":\"\"}'}}], 'token_count': {'input_tokens': 2039.0, 'output_tokens': 155.0}}, id='run-f3771d0b-d50c-4de9-a4c3-3a059046f939-0', tool_calls=[{'name': 'reply_agent_tool', 'args': {'email_input': {'from': 'professor@example.com', 'to': 'manab@example.com', 'subject': 'Re: Request for Project Collaboration', 'body': \"Dear Manab,\\nThank you for reaching out. I'm open to the idea of collaborating on AI research. Could you share a brief overview of your current work and areas of interest?\\nBest regards,\\nProfessor Sharma\"}, 'query': 'Reply to the following email professionally:', 'previous_responses': ''}, 'id': 'reply_agent_tool_1dp5tyg7ys95', 'type': 'tool_call'}], usage_metadata={'input_tokens': 2039, 'output_tokens': 155, 'total_tokens': 2194}), ToolMessage(content='\"{\\\\\"From\\\\\": \\\\\"manab@example.com\\\\\", \\\\\"To\\\\\": \\\\\"professor@example.com\\\\\", \\\\\"Subject\\\\\": \\\\\"Re: Request for Project Collaboration\\\\\", \\\\\"Body\\\\\": \\\\\"Dear Professor Sharma,\\\\\\\\n\\\\\\\\nThank you for your prompt and positive response. I am pleased to hear that you are open to collaboration.\\\\\\\\n\\\\\\\\nAs you requested, I have outlined my current work and research interests below:\\\\\\\\n\\\\\\\\n[Provide a brief overview of your current work and areas of interest in AI research here]\\\\\\\\n\\\\\\\\nI am eager to discuss this further with you at your convenience. Please let me know what time works best for you to meet or speak.\\\\\\\\n\\\\\\\\nBest regards,\\\\\\\\nManab\\\\\"}\"', name='reply_agent_tool', id='706ddcdf-407c-42d3-b9c9-65789dbdee15', tool_call_id='reply_agent_tool_1dp5tyg7ys95'), AIMessage(content='{\"From\": \"manab@example.com\", \"To\": \"professor@example.com\", \"Subject\": \"Re: Request for Project Collaboration\", \"Body\": \"Dear Professor Sharma,\\\\n\\\\nThank you for your prompt and positive response. I am pleased to hear that you are open to collaboration.\\\\n\\\\nAs you requested, I have outlined my current work and research interests below:\\\\n\\\\n[Provide a brief overview of your current work and areas of interest in AI research here]\\\\n\\\\nI am eager to discuss this further with you at your convenience. Please let me know what time works best for you to meet or speak.\\\\n\\\\nBest regards,\\\\nManab\"}', additional_kwargs={'id': '69f33622-db71-4db0-9e57-ec0e54f938f6', 'finish_reason': 'COMPLETE', 'content': '{\"From\": \"manab@example.com\", \"To\": \"professor@example.com\", \"Subject\": \"Re: Request for Project Collaboration\", \"Body\": \"Dear Professor Sharma,\\\\n\\\\nThank you for your prompt and positive response. I am pleased to hear that you are open to collaboration.\\\\n\\\\nAs you requested, I have outlined my current work and research interests below:\\\\n\\\\n[Provide a brief overview of your current work and areas of interest in AI research here]\\\\n\\\\nI am eager to discuss this further with you at your convenience. Please let me know what time works best for you to meet or speak.\\\\n\\\\nBest regards,\\\\nManab\"}', 'citations': [Citation(start=0, end=589, text='{\"From\": \"manab@example.com\", \"To\": \"professor@example.com\", \"Subject\": \"Re: Request for Project Collaboration\", \"Body\": \"Dear Professor Sharma,\\\\n\\\\nThank you for your prompt and positive response. I am pleased to hear that you are open to collaboration.\\\\n\\\\nAs you requested, I have outlined my current work and research interests below:\\\\n\\\\n[Provide a brief overview of your current work and areas of interest in AI research here]\\\\n\\\\nI am eager to discuss this further with you at your convenience. Please let me know what time works best for you to meet or speak.\\\\n\\\\nBest regards,\\\\nManab\"}', sources=[ToolSource(type='tool', id='reply_agent_tool_1dp5tyg7ys95:0', tool_output={'output': '\"{\\\\\"From\\\\\": \\\\\"manab@example.com\\\\\", \\\\\"To\\\\\": \\\\\"professor@example.com\\\\\", \\\\\"Subject\\\\\": \\\\\"Re: Request for Project Collaboration\\\\\", \\\\\"Body\\\\\": \\\\\"Dear Professor Sharma,\\\\\\\\n\\\\\\\\nThank you for your prompt and positive response. I am pleased to hear that you are open to collaboration.\\\\\\\\n\\\\\\\\nAs you requested, I have outlined my current work and research interests below:\\\\\\\\n\\\\\\\\n[Provide a brief overview of your current work and areas of interest in AI research here]\\\\\\\\n\\\\\\\\nI am eager to discuss this further with you at your convenience. Please let me know what time works best for you to meet or speak.\\\\\\\\n\\\\\\\\nBest regards,\\\\\\\\nManab\\\\\"}\"'})], type='TEXT_CONTENT')], 'token_count': {'input_tokens': 2410.0, 'output_tokens': 157.0}}, response_metadata={'id': '69f33622-db71-4db0-9e57-ec0e54f938f6', 'finish_reason': 'COMPLETE', 'content': '{\"From\": \"manab@example.com\", \"To\": \"professor@example.com\", \"Subject\": \"Re: Request for Project Collaboration\", \"Body\": \"Dear Professor Sharma,\\\\n\\\\nThank you for your prompt and positive response. I am pleased to hear that you are open to collaboration.\\\\n\\\\nAs you requested, I have outlined my current work and research interests below:\\\\n\\\\n[Provide a brief overview of your current work and areas of interest in AI research here]\\\\n\\\\nI am eager to discuss this further with you at your convenience. Please let me know what time works best for you to meet or speak.\\\\n\\\\nBest regards,\\\\nManab\"}', 'citations': [Citation(start=0, end=589, text='{\"From\": \"manab@example.com\", \"To\": \"professor@example.com\", \"Subject\": \"Re: Request for Project Collaboration\", \"Body\": \"Dear Professor Sharma,\\\\n\\\\nThank you for your prompt and positive response. I am pleased to hear that you are open to collaboration.\\\\n\\\\nAs you requested, I have outlined my current work and research interests below:\\\\n\\\\n[Provide a brief overview of your current work and areas of interest in AI research here]\\\\n\\\\nI am eager to discuss this further with you at your convenience. Please let me know what time works best for you to meet or speak.\\\\n\\\\nBest regards,\\\\nManab\"}', sources=[ToolSource(type='tool', id='reply_agent_tool_1dp5tyg7ys95:0', tool_output={'output': '\"{\\\\\"From\\\\\": \\\\\"manab@example.com\\\\\", \\\\\"To\\\\\": \\\\\"professor@example.com\\\\\", \\\\\"Subject\\\\\": \\\\\"Re: Request for Project Collaboration\\\\\", \\\\\"Body\\\\\": \\\\\"Dear Professor Sharma,\\\\\\\\n\\\\\\\\nThank you for your prompt and positive response. I am pleased to hear that you are open to collaboration.\\\\\\\\n\\\\\\\\nAs you requested, I have outlined my current work and research interests below:\\\\\\\\n\\\\\\\\n[Provide a brief overview of your current work and areas of interest in AI research here]\\\\\\\\n\\\\\\\\nI am eager to discuss this further with you at your convenience. Please let me know what time works best for you to meet or speak.\\\\\\\\n\\\\\\\\nBest regards,\\\\\\\\nManab\\\\\"}\"'})], type='TEXT_CONTENT')], 'token_count': {'input_tokens': 2410.0, 'output_tokens': 157.0}}, id='run-becc9e16-70bf-48c4-898f-c7d5ca3d241d-0', usage_metadata={'input_tokens': 2410, 'output_tokens': 157, 'total_tokens': 2567})]}\n"
     ]
    }
   ],
   "source": [
    "from langchain_core.runnables import RunnableConfig\n",
    "import uuid\n",
    "\n",
    "\n",
    "config = RunnableConfig(configurable={\n",
    "    \"user_id\": \"user_231\",\n",
    "    \"thread_id\": str(uuid.uuid4())\n",
    "})\n",
    "\n",
    "\n",
    "response = main_agent.invoke({\n",
    "    \"messages\": [\n",
    "        {\n",
    "            \"role\": \"user\",\n",
    "            \"content\": \"\"\"Received Email:\n",
    "from: professor@example.com  \n",
    "to: manab@example.com  \n",
    "subject: Re: Request for Project Collaboration  \n",
    "body:\n",
    "Dear Manab,  \n",
    "Thank you for reaching out. I'm open to the idea of collaborating on AI research. Could you share a brief overview of your current work and areas of interest?  \n",
    "Best regards,  \n",
    "Professor Sharma\n",
    "\n",
    "Reply to the following email professionally:\"\"\"\n",
    "        }\n",
    "    ]\n",
    "}, config=config\n",
    ")\n",
    "\n",
    "# Print the output\n",
    "print(\"\\nReply Email Response:\\n\", response)\n"
   ]
  },
  {
   "cell_type": "code",
   "execution_count": 16,
   "id": "9547ee70",
   "metadata": {},
   "outputs": [
    {
     "data": {
      "text/plain": [
       "AIMessage(content='{\"From\": \"manab@example.com\", \"To\": \"professor@example.com\", \"Subject\": \"Re: Request for Project Collaboration\", \"Body\": \"Dear Professor Sharma,\\\\n\\\\nThank you for your prompt and positive response. I am pleased to hear that you are open to collaboration.\\\\n\\\\nAs you requested, I have outlined my current work and research interests below:\\\\n\\\\n[Provide a brief overview of your current work and areas of interest in AI research here]\\\\n\\\\nI am eager to discuss this further with you at your convenience. Please let me know what time works best for you to meet or speak.\\\\n\\\\nBest regards,\\\\nManab\"}', additional_kwargs={'id': '69f33622-db71-4db0-9e57-ec0e54f938f6', 'finish_reason': 'COMPLETE', 'content': '{\"From\": \"manab@example.com\", \"To\": \"professor@example.com\", \"Subject\": \"Re: Request for Project Collaboration\", \"Body\": \"Dear Professor Sharma,\\\\n\\\\nThank you for your prompt and positive response. I am pleased to hear that you are open to collaboration.\\\\n\\\\nAs you requested, I have outlined my current work and research interests below:\\\\n\\\\n[Provide a brief overview of your current work and areas of interest in AI research here]\\\\n\\\\nI am eager to discuss this further with you at your convenience. Please let me know what time works best for you to meet or speak.\\\\n\\\\nBest regards,\\\\nManab\"}', 'citations': [Citation(start=0, end=589, text='{\"From\": \"manab@example.com\", \"To\": \"professor@example.com\", \"Subject\": \"Re: Request for Project Collaboration\", \"Body\": \"Dear Professor Sharma,\\\\n\\\\nThank you for your prompt and positive response. I am pleased to hear that you are open to collaboration.\\\\n\\\\nAs you requested, I have outlined my current work and research interests below:\\\\n\\\\n[Provide a brief overview of your current work and areas of interest in AI research here]\\\\n\\\\nI am eager to discuss this further with you at your convenience. Please let me know what time works best for you to meet or speak.\\\\n\\\\nBest regards,\\\\nManab\"}', sources=[ToolSource(type='tool', id='reply_agent_tool_1dp5tyg7ys95:0', tool_output={'output': '\"{\\\\\"From\\\\\": \\\\\"manab@example.com\\\\\", \\\\\"To\\\\\": \\\\\"professor@example.com\\\\\", \\\\\"Subject\\\\\": \\\\\"Re: Request for Project Collaboration\\\\\", \\\\\"Body\\\\\": \\\\\"Dear Professor Sharma,\\\\\\\\n\\\\\\\\nThank you for your prompt and positive response. I am pleased to hear that you are open to collaboration.\\\\\\\\n\\\\\\\\nAs you requested, I have outlined my current work and research interests below:\\\\\\\\n\\\\\\\\n[Provide a brief overview of your current work and areas of interest in AI research here]\\\\\\\\n\\\\\\\\nI am eager to discuss this further with you at your convenience. Please let me know what time works best for you to meet or speak.\\\\\\\\n\\\\\\\\nBest regards,\\\\\\\\nManab\\\\\"}\"'})], type='TEXT_CONTENT')], 'token_count': {'input_tokens': 2410.0, 'output_tokens': 157.0}}, response_metadata={'id': '69f33622-db71-4db0-9e57-ec0e54f938f6', 'finish_reason': 'COMPLETE', 'content': '{\"From\": \"manab@example.com\", \"To\": \"professor@example.com\", \"Subject\": \"Re: Request for Project Collaboration\", \"Body\": \"Dear Professor Sharma,\\\\n\\\\nThank you for your prompt and positive response. I am pleased to hear that you are open to collaboration.\\\\n\\\\nAs you requested, I have outlined my current work and research interests below:\\\\n\\\\n[Provide a brief overview of your current work and areas of interest in AI research here]\\\\n\\\\nI am eager to discuss this further with you at your convenience. Please let me know what time works best for you to meet or speak.\\\\n\\\\nBest regards,\\\\nManab\"}', 'citations': [Citation(start=0, end=589, text='{\"From\": \"manab@example.com\", \"To\": \"professor@example.com\", \"Subject\": \"Re: Request for Project Collaboration\", \"Body\": \"Dear Professor Sharma,\\\\n\\\\nThank you for your prompt and positive response. I am pleased to hear that you are open to collaboration.\\\\n\\\\nAs you requested, I have outlined my current work and research interests below:\\\\n\\\\n[Provide a brief overview of your current work and areas of interest in AI research here]\\\\n\\\\nI am eager to discuss this further with you at your convenience. Please let me know what time works best for you to meet or speak.\\\\n\\\\nBest regards,\\\\nManab\"}', sources=[ToolSource(type='tool', id='reply_agent_tool_1dp5tyg7ys95:0', tool_output={'output': '\"{\\\\\"From\\\\\": \\\\\"manab@example.com\\\\\", \\\\\"To\\\\\": \\\\\"professor@example.com\\\\\", \\\\\"Subject\\\\\": \\\\\"Re: Request for Project Collaboration\\\\\", \\\\\"Body\\\\\": \\\\\"Dear Professor Sharma,\\\\\\\\n\\\\\\\\nThank you for your prompt and positive response. I am pleased to hear that you are open to collaboration.\\\\\\\\n\\\\\\\\nAs you requested, I have outlined my current work and research interests below:\\\\\\\\n\\\\\\\\n[Provide a brief overview of your current work and areas of interest in AI research here]\\\\\\\\n\\\\\\\\nI am eager to discuss this further with you at your convenience. Please let me know what time works best for you to meet or speak.\\\\\\\\n\\\\\\\\nBest regards,\\\\\\\\nManab\\\\\"}\"'})], type='TEXT_CONTENT')], 'token_count': {'input_tokens': 2410.0, 'output_tokens': 157.0}}, id='run-becc9e16-70bf-48c4-898f-c7d5ca3d241d-0', usage_metadata={'input_tokens': 2410, 'output_tokens': 157, 'total_tokens': 2567})"
      ]
     },
     "execution_count": 16,
     "metadata": {},
     "output_type": "execute_result"
    }
   ],
   "source": [
    "response[\"messages\"][-1]"
   ]
  },
  {
   "cell_type": "code",
   "execution_count": 17,
   "id": "ef0facc1",
   "metadata": {},
   "outputs": [
    {
     "name": "stdout",
     "output_type": "stream",
     "text": [
      "('{\"From\": \"manab@example.com\", \"To\": \"professor@example.com\", \"Subject\": \"Re: '\n",
      " 'Request for Project Collaboration\", \"Body\": \"Dear Professor '\n",
      " 'Sharma,\\\\n\\\\nThank you for your prompt and positive response. I am pleased '\n",
      " 'to hear that you are open to collaboration.\\\\n\\\\nAs you requested, I have '\n",
      " 'outlined my current work and research interests below:\\\\n\\\\n[Provide a brief '\n",
      " 'overview of your current work and areas of interest in AI research '\n",
      " 'here]\\\\n\\\\nI am eager to discuss this further with you at your convenience. '\n",
      " 'Please let me know what time works best for you to meet or speak.\\\\n\\\\nBest '\n",
      " 'regards,\\\\nManab\"}')\n"
     ]
    }
   ],
   "source": [
    "\n",
    "pprint(response[\"messages\"][-1].content)"
   ]
  },
  {
   "cell_type": "code",
   "execution_count": null,
   "id": "cb6a5dd1",
   "metadata": {},
   "outputs": [],
   "source": []
  },
  {
   "cell_type": "code",
   "execution_count": null,
   "id": "3f6951ea",
   "metadata": {},
   "outputs": [],
   "source": []
  },
  {
   "cell_type": "code",
   "execution_count": null,
   "id": "a0042e42",
   "metadata": {},
   "outputs": [],
   "source": []
  }
 ],
 "metadata": {
  "kernelspec": {
   "display_name": "Python 3",
   "language": "python",
   "name": "python3"
  },
  "language_info": {
   "codemirror_mode": {
    "name": "ipython",
    "version": 3
   },
   "file_extension": ".py",
   "mimetype": "text/x-python",
   "name": "python",
   "nbconvert_exporter": "python",
   "pygments_lexer": "ipython3",
   "version": "3.12.3"
  }
 },
 "nbformat": 4,
 "nbformat_minor": 5
}
