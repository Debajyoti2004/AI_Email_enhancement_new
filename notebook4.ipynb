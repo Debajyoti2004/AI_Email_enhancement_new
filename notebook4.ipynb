{
 "cells": [
  {
   "cell_type": "code",
   "execution_count": 1,
   "id": "8d0b15c8",
   "metadata": {},
   "outputs": [
    {
     "name": "stderr",
     "output_type": "stream",
     "text": [
      "USER_AGENT environment variable not set, consider setting it to identify your requests.\n"
     ]
    },
    {
     "name": "stdout",
     "output_type": "stream",
     "text": [
      " Loading vector store from local disk...\n",
      "Compiling composer agent workflow...\n",
      "Compiling reply agent workflow...\n",
      "Compiling refinement agent workflow...\n",
      "Compiling response agent workflow...\n"
     ]
    }
   ],
   "source": [
    "from Main_agent import compile_main_agent_graph\n"
   ]
  },
  {
   "cell_type": "code",
   "execution_count": 2,
   "id": "4cddd871",
   "metadata": {},
   "outputs": [
    {
     "name": "stdout",
     "output_type": "stream",
     "text": [
      "Compiling workflow...\n"
     ]
    }
   ],
   "source": [
    "main_agent = compile_main_agent_graph()"
   ]
  },
  {
   "cell_type": "code",
   "execution_count": 3,
   "id": "64211855",
   "metadata": {},
   "outputs": [
    {
     "name": "stdout",
     "output_type": "stream",
     "text": [
      " Classification: RESPOND - This email requires a response\n",
      "tool call for search_recall_memories\n",
      "last_message:content=\"I will use the 'composing_email_tool' to generate a new email from scratch based on the user's details and intent.\" additional_kwargs={'id': 'f1fb69f9-11f5-4b06-b733-3d64db8a9831', 'finish_reason': 'TOOL_CALL', 'tool_plan': \"I will use the 'composing_email_tool' to generate a new email from scratch based on the user's details and intent.\", 'tool_calls': [{'id': 'composing_email_tool_yf060t8n6cfn', 'type': 'function', 'function': {'name': 'composing_email_tool', 'arguments': '{\"email_details\":{\"from\":\"manab@example.com\",\"to\":\"professor@example.com\",\"subject\":\"Request for Project Collaboration\"},\"query\":\"Write a formal email requesting a meeting to discuss project collaboration on AI research.\",\"retrieved_company_data\":\"\"}'}}], 'token_count': {'input_tokens': 2300.0, 'output_tokens': 126.0}} response_metadata={'id': 'f1fb69f9-11f5-4b06-b733-3d64db8a9831', 'finish_reason': 'TOOL_CALL', 'tool_plan': \"I will use the 'composing_email_tool' to generate a new email from scratch based on the user's details and intent.\", 'tool_calls': [{'id': 'composing_email_tool_yf060t8n6cfn', 'type': 'function', 'function': {'name': 'composing_email_tool', 'arguments': '{\"email_details\":{\"from\":\"manab@example.com\",\"to\":\"professor@example.com\",\"subject\":\"Request for Project Collaboration\"},\"query\":\"Write a formal email requesting a meeting to discuss project collaboration on AI research.\",\"retrieved_company_data\":\"\"}'}}], 'token_count': {'input_tokens': 2300.0, 'output_tokens': 126.0}} id='run-ca565f32-a567-4ced-b004-753fdc8b497d-0' tool_calls=[{'name': 'composing_email_tool', 'args': {'email_details': {'from': 'manab@example.com', 'to': 'professor@example.com', 'subject': 'Request for Project Collaboration'}, 'query': 'Write a formal email requesting a meeting to discuss project collaboration on AI research.', 'retrieved_company_data': ''}, 'id': 'composing_email_tool_yf060t8n6cfn', 'type': 'tool_call'}] usage_metadata={'input_tokens': 2300, 'output_tokens': 126, 'total_tokens': 2426}\n",
      "Calling tool: composing_email_tool\n",
      "Tool args: {'email_details': {'from': 'manab@example.com', 'to': 'professor@example.com', 'subject': 'Request for Project Collaboration'}, 'query': 'Write a formal email requesting a meeting to discuss project collaboration on AI research.', 'retrieved_company_data': ''}\n",
      "Expected input schema: <class 'langchain_core.utils.pydantic.composing_email_tool'>\n",
      "tool call for composing_email_tool\n",
      "helper call for _save_recall_memory\n",
      "Memory saved for user user_256\n",
      "last_message:content=\"I will use the 'search_recall_memories' tool to retrieve the previous email.\" additional_kwargs={'id': '1a869037-ccd0-4ea6-8e0a-be7c71fa81e4', 'finish_reason': 'TOOL_CALL', 'tool_plan': \"I will use the 'search_recall_memories' tool to retrieve the previous email.\", 'tool_calls': [{'id': 'search_recall_memories_rjaywr899z6m', 'type': 'function', 'function': {'name': 'search_recall_memories', 'arguments': '{\"comb_str\":\"previous email\"}'}}], 'token_count': {'input_tokens': 2733.0, 'output_tokens': 62.0}} response_metadata={'id': '1a869037-ccd0-4ea6-8e0a-be7c71fa81e4', 'finish_reason': 'TOOL_CALL', 'tool_plan': \"I will use the 'search_recall_memories' tool to retrieve the previous email.\", 'tool_calls': [{'id': 'search_recall_memories_rjaywr899z6m', 'type': 'function', 'function': {'name': 'search_recall_memories', 'arguments': '{\"comb_str\":\"previous email\"}'}}], 'token_count': {'input_tokens': 2733.0, 'output_tokens': 62.0}} id='run-f04f44df-ab6a-4a1b-97f5-63703582759d-0' tool_calls=[{'name': 'search_recall_memories', 'args': {'comb_str': 'previous email'}, 'id': 'search_recall_memories_rjaywr899z6m', 'type': 'tool_call'}] usage_metadata={'input_tokens': 2733, 'output_tokens': 62, 'total_tokens': 2795}\n",
      "Calling tool: search_recall_memories\n",
      "Tool args: {'comb_str': 'previous email'}\n",
      "Expected input schema: <class 'langchain_core.utils.pydantic.search_recall_memories'>\n",
      "tool call for search_recall_memories\n",
      "Execution Time: 13.52 seconds\n",
      "\n",
      "=== Final Graph Output ===\n",
      "{'messages_query': 'You are an expert email assistant. Based on the details below, generate a professional email:\\n\\nEmail Input:\\n{\\n    \"from\": \"manab@example.com\",\\n    \"to\": \"professor@example.com\",\\n    \"subject\": \"Request for Project Collaboration\"\\n}\\n\\nQuery:\\nWrite a formal email requesting a meeting to discuss project collaboration on AI research.', 'reasoning': \"The email is a formal request for a meeting to discuss project collaboration on AI research. It requires a response from the recipient, as it is a direct request for action and information exchange. The sender is seeking a reply to arrange a meeting, which falls under the 'Respond' category.\", 'classification': 'Respond', 'generated_email': \"Here is a draft of the email:\\n\\nFrom: manab@example.com\\nTo: professor@example.com\\nSubject: Request for Project Collaboration\\n\\nDear Professor,\\n\\nI hope this email finds you well.\\n\\nMy name is Manab, and I am writing to express my strong interest in potentially collaborating on an AI research project. I have been following your work in [mention specific area of Professor's work] with great interest, and I believe my skills and experience in [mention your relevant skills] could be a valuable asset to your research.\\n\\nI have been working on [briefly describe your relevant work/project]. I am particularly interested in exploring [mention specific research area of interest for collaboration].\\n\\nWould you be available for a brief meeting to discuss potential collaboration opportunities further? I am available on [mention your availability]. Please let me know if any of these times work for you, or if there is another time that is more convenient.\\n\\nThank you for your time and consideration. I look forward to hearing from you soon.\\n\\nSincerely,\\nManab\"}\n"
     ]
    }
   ],
   "source": [
    "import time\n",
    "from langchain_core.runnables import RunnableConfig\n",
    "\n",
    "test_input = {\n",
    "    \"messages_query\":\"\"\"You are an expert email assistant. Based on the details below, generate a professional email:\n",
    "\n",
    "Email Input:\n",
    "{\n",
    "    \"from\": \"manab@example.com\",\n",
    "    \"to\": \"professor@example.com\",\n",
    "    \"subject\": \"Request for Project Collaboration\"\n",
    "}\n",
    "\n",
    "Query:\n",
    "Write a formal email requesting a meeting to discuss project collaboration on AI research.\"\"\"\n",
    "}\n",
    "config = RunnableConfig(\n",
    "    configurable={\"user_id\": \"user_256\"}\n",
    ")\n",
    "\n",
    "start_time = time.time()\n",
    "final_output = main_agent.invoke(test_input, config=config)\n",
    "end_time = time.time()\n",
    "\n",
    "print(f\"Execution Time: {end_time - start_time:.2f} seconds\")\n",
    "\n",
    "print(\"\\n=== Final Graph Output ===\")\n",
    "print(final_output)\n"
   ]
  },
  {
   "cell_type": "code",
   "execution_count": 4,
   "id": "6596380e",
   "metadata": {},
   "outputs": [
    {
     "name": "stdout",
     "output_type": "stream",
     "text": [
      "('Here is a draft of the email:\\n'\n",
      " '\\n'\n",
      " 'From: manab@example.com\\n'\n",
      " 'To: professor@example.com\\n'\n",
      " 'Subject: Request for Project Collaboration\\n'\n",
      " '\\n'\n",
      " 'Dear Professor,\\n'\n",
      " '\\n'\n",
      " 'I hope this email finds you well.\\n'\n",
      " '\\n'\n",
      " 'My name is Manab, and I am writing to express my strong interest in '\n",
      " 'potentially collaborating on an AI research project. I have been following '\n",
      " \"your work in [mention specific area of Professor's work] with great \"\n",
      " 'interest, and I believe my skills and experience in [mention your relevant '\n",
      " 'skills] could be a valuable asset to your research.\\n'\n",
      " '\\n'\n",
      " 'I have been working on [briefly describe your relevant work/project]. I am '\n",
      " 'particularly interested in exploring [mention specific research area of '\n",
      " 'interest for collaboration].\\n'\n",
      " '\\n'\n",
      " 'Would you be available for a brief meeting to discuss potential '\n",
      " 'collaboration opportunities further? I am available on [mention your '\n",
      " 'availability]. Please let me know if any of these times work for you, or if '\n",
      " 'there is another time that is more convenient.\\n'\n",
      " '\\n'\n",
      " 'Thank you for your time and consideration. I look forward to hearing from '\n",
      " 'you soon.\\n'\n",
      " '\\n'\n",
      " 'Sincerely,\\n'\n",
      " 'Manab')\n",
      "<class 'str'>\n"
     ]
    }
   ],
   "source": [
    "from pprint import pprint\n",
    "pprint(final_output[\"generated_email\"])\n",
    "print(type(final_output[\"generated_email\"]))"
   ]
  },
  {
   "cell_type": "code",
   "execution_count": 5,
   "id": "3283b5ed",
   "metadata": {},
   "outputs": [],
   "source": [
    "generated_str = final_output[\"generated_email\"]\n"
   ]
  },
  {
   "cell_type": "code",
   "execution_count": 6,
   "id": "a4080348",
   "metadata": {},
   "outputs": [
    {
     "name": "stdout",
     "output_type": "stream",
     "text": [
      "\"Here is a draft of the email:\\n\\nFrom: manab@example.com\\nTo: professor@example.com\\nSubject: Request for Project Collaboration\\n\\nDear Professor,\\n\\nI hope this email finds you well.\\n\\nMy name is Manab, and I am writing to express my strong interest in potentially collaborating on an AI research project. I have been following your work in [mention specific area of Professor's work] with great interest, and I believe my skills and experience in [mention your relevant skills] could be a valuable asset to your research.\\n\\nI have been working on [briefly describe your relevant work/project]. I am particularly interested in exploring [mention specific research area of interest for collaboration].\\n\\nWould you be available for a brief meeting to discuss potential collaboration opportunities further? I am available on [mention your availability]. Please let me know if any of these times work for you, or if there is another time that is more convenient.\\n\\nThank you for your time and consideration. I look forward to hearing from you soon.\\n\\nSincerely,\\nManab\"\n"
     ]
    }
   ],
   "source": [
    "import json\n",
    "result = json.dumps(generated_str)\n",
    "print(result)"
   ]
  },
  {
   "cell_type": "code",
   "execution_count": 7,
   "id": "46445b31",
   "metadata": {},
   "outputs": [],
   "source": [
    "email_response = json.loads(result)"
   ]
  },
  {
   "cell_type": "code",
   "execution_count": 8,
   "id": "2cca72f1",
   "metadata": {},
   "outputs": [
    {
     "name": "stdout",
     "output_type": "stream",
     "text": [
      "Here is a draft of the email:\n",
      "\n",
      "From: manab@example.com\n",
      "To: professor@example.com\n",
      "Subject: Request for Project Collaboration\n",
      "\n",
      "Dear Professor,\n",
      "\n",
      "I hope this email finds you well.\n",
      "\n",
      "My name is Manab, and I am writing to express my strong interest in potentially collaborating on an AI research project. I have been following your work in [mention specific area of Professor's work] with great interest, and I believe my skills and experience in [mention your relevant skills] could be a valuable asset to your research.\n",
      "\n",
      "I have been working on [briefly describe your relevant work/project]. I am particularly interested in exploring [mention specific research area of interest for collaboration].\n",
      "\n",
      "Would you be available for a brief meeting to discuss potential collaboration opportunities further? I am available on [mention your availability]. Please let me know if any of these times work for you, or if there is another time that is more convenient.\n",
      "\n",
      "Thank you for your time and consideration. I look forward to hearing from you soon.\n",
      "\n",
      "Sincerely,\n",
      "Manab\n"
     ]
    }
   ],
   "source": [
    "print(email_response)"
   ]
  },
  {
   "cell_type": "code",
   "execution_count": 9,
   "id": "6f0a7c85",
   "metadata": {},
   "outputs": [
    {
     "name": "stdout",
     "output_type": "stream",
     "text": [
      " Classification: RESPOND - This email requires a response\n",
      "tool call for search_recall_memories\n",
      "last_message:content=\"I will use the refinement_tool to refine the user's drafted email.\" additional_kwargs={'id': '12fed294-ee68-4137-a332-099918b355b1', 'finish_reason': 'TOOL_CALL', 'tool_plan': \"I will use the refinement_tool to refine the user's drafted email.\", 'tool_calls': [{'id': 'refinement_tool_wx1f75y6s4bt', 'type': 'function', 'function': {'name': 'refinement_tool', 'arguments': '{\"email_input\":{\"from\":\"manab@example.com\",\"to\":\"professor@example.com\",\"subject\":\"project collab\",\"body\":\"hi,  \\\\ni wanted to check if we can work together on some AI stuff. maybe we can talk next week? let me know.  \\\\n\\\\nthanks  \\\\nmanab\"},\"query\":\"refine email\"}'}}], 'token_count': {'input_tokens': 2313.0, 'output_tokens': 131.0}} response_metadata={'id': '12fed294-ee68-4137-a332-099918b355b1', 'finish_reason': 'TOOL_CALL', 'tool_plan': \"I will use the refinement_tool to refine the user's drafted email.\", 'tool_calls': [{'id': 'refinement_tool_wx1f75y6s4bt', 'type': 'function', 'function': {'name': 'refinement_tool', 'arguments': '{\"email_input\":{\"from\":\"manab@example.com\",\"to\":\"professor@example.com\",\"subject\":\"project collab\",\"body\":\"hi,  \\\\ni wanted to check if we can work together on some AI stuff. maybe we can talk next week? let me know.  \\\\n\\\\nthanks  \\\\nmanab\"},\"query\":\"refine email\"}'}}], 'token_count': {'input_tokens': 2313.0, 'output_tokens': 131.0}} id='run-a3238499-c58b-4ffe-af80-efda4131a647-0' tool_calls=[{'name': 'refinement_tool', 'args': {'email_input': {'from': 'manab@example.com', 'to': 'professor@example.com', 'subject': 'project collab', 'body': 'hi,  \\ni wanted to check if we can work together on some AI stuff. maybe we can talk next week? let me know.  \\n\\nthanks  \\nmanab'}, 'query': 'refine email'}, 'id': 'refinement_tool_wx1f75y6s4bt', 'type': 'tool_call'}] usage_metadata={'input_tokens': 2313, 'output_tokens': 131, 'total_tokens': 2444}\n",
      "Calling tool: refinement_tool\n",
      "Tool args: {'email_input': {'from': 'manab@example.com', 'to': 'professor@example.com', 'subject': 'project collab', 'body': 'hi,  \\ni wanted to check if we can work together on some AI stuff. maybe we can talk next week? let me know.  \\n\\nthanks  \\nmanab'}, 'query': 'refine email'}\n",
      "Expected input schema: <class 'langchain_core.utils.pydantic.refinement_tool'>\n",
      "tool call for refinement_tool\n",
      "helper call for _save_recall_memory\n",
      "Memory saved for user user_224\n",
      "last_message:content='I will use the search_recall_memories tool to retrieve the refined email.' additional_kwargs={'id': '8caf3eb6-2df7-4cb2-8259-cf0bc703ed88', 'finish_reason': 'TOOL_CALL', 'tool_plan': 'I will use the search_recall_memories tool to retrieve the refined email.', 'tool_calls': [{'id': 'search_recall_memories_gfwsbq79py4s', 'type': 'function', 'function': {'name': 'search_recall_memories', 'arguments': '{\"comb_str\":\"refined email\"}'}}], 'token_count': {'input_tokens': 2667.0, 'output_tokens': 60.0}} response_metadata={'id': '8caf3eb6-2df7-4cb2-8259-cf0bc703ed88', 'finish_reason': 'TOOL_CALL', 'tool_plan': 'I will use the search_recall_memories tool to retrieve the refined email.', 'tool_calls': [{'id': 'search_recall_memories_gfwsbq79py4s', 'type': 'function', 'function': {'name': 'search_recall_memories', 'arguments': '{\"comb_str\":\"refined email\"}'}}], 'token_count': {'input_tokens': 2667.0, 'output_tokens': 60.0}} id='run-9c458af8-805e-41a0-90bb-6dc077dd0590-0' tool_calls=[{'name': 'search_recall_memories', 'args': {'comb_str': 'refined email'}, 'id': 'search_recall_memories_gfwsbq79py4s', 'type': 'tool_call'}] usage_metadata={'input_tokens': 2667, 'output_tokens': 60, 'total_tokens': 2727}\n",
      "Calling tool: search_recall_memories\n",
      "Tool args: {'comb_str': 'refined email'}\n",
      "Expected input schema: <class 'langchain_core.utils.pydantic.search_recall_memories'>\n",
      "tool call for search_recall_memories\n",
      "Execution Time for Test 2: 11.55 seconds\n",
      "\n",
      "=== Final Graph Output for Test 2 ===\n",
      "{'messages_query': '\\nYou are an expert email assistant. Please refine the following draft email to make it more formal, polished, and professional:\\n\\nDraft Email:\\nfrom: manab@example.com\\nto: professor@example.com\\nsubject: project collab\\nbody:\\nhi,  \\ni wanted to check if we can work together on some AI stuff. maybe we can talk next week? let me know.  \\n\\nthanks  \\nmanab\\n', 'reasoning': \"The email is a direct request for collaboration on a project, which requires a response from the recipient. The sender is asking for a meeting to discuss the possibility of working together on AI-related topics. This indicates that the recipient needs to take action, either by agreeing to the meeting or providing an alternative suggestion. The email is not irrelevant or spam, and it does not contain any sensitive personal information. Therefore, it falls under the 'Respond' category.\", 'classification': 'Respond', 'generated_email': \"Here is a refined version of your email:\\n\\n> From: manab@example.com\\n> To: professor@example.com\\n> Subject: Potential Collaboration on AI Research\\n> Body: Dear Professor,\\n\\n> I hope this email finds you well.\\n\\n> I am writing to express my interest in potentially collaborating on AI-related research projects. I have been following your work in [mention specific area of professor's work if known, otherwise remove this part], and I believe my skills and interests align well with your research.\\n\\n> Would you be available to discuss potential collaboration opportunities sometime next week? Please let me know your availability.\\n\\n> Thank you for your time and consideration.\\n\\n> Sincerely,\\n> Manab\"}\n"
     ]
    }
   ],
   "source": [
    "import time\n",
    "from langchain_core.runnables import RunnableConfig\n",
    "import random\n",
    "\n",
    "test_input_2 = {\n",
    "    \"messages_query\": f\"\"\"\n",
    "You are an expert email assistant. Please refine the following draft email to make it more formal, polished, and professional:\n",
    "\n",
    "Draft Email:\n",
    "from: manab@example.com\n",
    "to: professor@example.com\n",
    "subject: project collab\n",
    "body:\n",
    "hi,  \n",
    "i wanted to check if we can work together on some AI stuff. maybe we can talk next week? let me know.  \n",
    "\n",
    "thanks  \n",
    "manab\n",
    "\"\"\",\n",
    "}\n",
    "\n",
    "config_2 = RunnableConfig(\n",
    "    configurable={\"user_id\": \"user_224\"}\n",
    ")\n",
    "\n",
    "start_time_2 = time.time()\n",
    "final_output_2 = main_agent.invoke(test_input_2, config=config_2)\n",
    "end_time_2 = time.time()\n",
    "\n",
    "print(f\"Execution Time for Test 2: {end_time_2 - start_time_2:.2f} seconds\")\n",
    "# Print output\n",
    "print(\"\\n=== Final Graph Output for Test 2 ===\")\n",
    "print(final_output_2)\n"
   ]
  },
  {
   "cell_type": "code",
   "execution_count": 10,
   "id": "1561d64d",
   "metadata": {},
   "outputs": [
    {
     "name": "stdout",
     "output_type": "stream",
     "text": [
      "Here is a refined version of your email:\n",
      "\n",
      "> From: manab@example.com\n",
      "> To: professor@example.com\n",
      "> Subject: Potential Collaboration on AI Research\n",
      "> Body: Dear Professor,\n",
      "\n",
      "> I hope this email finds you well.\n",
      "\n",
      "> I am writing to express my interest in potentially collaborating on AI-related research projects. I have been following your work in [mention specific area of professor's work if known, otherwise remove this part], and I believe my skills and interests align well with your research.\n",
      "\n",
      "> Would you be available to discuss potential collaboration opportunities sometime next week? Please let me know your availability.\n",
      "\n",
      "> Thank you for your time and consideration.\n",
      "\n",
      "> Sincerely,\n",
      "> Manab\n"
     ]
    }
   ],
   "source": [
    "print(final_output_2[\"generated_email\"])"
   ]
  },
  {
   "cell_type": "code",
   "execution_count": 11,
   "id": "31b0d416",
   "metadata": {},
   "outputs": [
    {
     "data": {
      "text/plain": [
       "str"
      ]
     },
     "execution_count": 11,
     "metadata": {},
     "output_type": "execute_result"
    }
   ],
   "source": [
    "type(final_output_2[\"generated_email\"])"
   ]
  },
  {
   "cell_type": "code",
   "execution_count": 12,
   "id": "05413b21",
   "metadata": {},
   "outputs": [
    {
     "name": "stdout",
     "output_type": "stream",
     "text": [
      "\"Here is a refined version of your email:\\n\\n> From: manab@example.com\\n> To: professor@example.com\\n> Subject: Potential Collaboration on AI Research\\n> Body: Dear Professor,\\n\\n> I hope this email finds you well.\\n\\n> I am writing to express my interest in potentially collaborating on AI-related research projects. I have been following your work in [mention specific area of professor's work if known, otherwise remove this part], and I believe my skills and interests align well with your research.\\n\\n> Would you be available to discuss potential collaboration opportunities sometime next week? Please let me know your availability.\\n\\n> Thank you for your time and consideration.\\n\\n> Sincerely,\\n> Manab\"\n",
      "Here is a refined version of your email:\n",
      "\n",
      "> From: manab@example.com\n",
      "> To: professor@example.com\n",
      "> Subject: Potential Collaboration on AI Research\n",
      "> Body: Dear Professor,\n",
      "\n",
      "> I hope this email finds you well.\n",
      "\n",
      "> I am writing to express my interest in potentially collaborating on AI-related research projects. I have been following your work in [mention specific area of professor's work if known, otherwise remove this part], and I believe my skills and interests align well with your research.\n",
      "\n",
      "> Would you be available to discuss potential collaboration opportunities sometime next week? Please let me know your availability.\n",
      "\n",
      "> Thank you for your time and consideration.\n",
      "\n",
      "> Sincerely,\n",
      "> Manab\n"
     ]
    }
   ],
   "source": [
    "import json \n",
    "result_2 = json.dumps(final_output_2[\"generated_email\"])\n",
    "print(result_2)\n",
    "\n",
    "email_response_2 = json.loads(result_2)\n",
    "\n",
    "print(email_response_2)"
   ]
  },
  {
   "cell_type": "code",
   "execution_count": 13,
   "id": "710ab86b",
   "metadata": {},
   "outputs": [
    {
     "name": "stdout",
     "output_type": "stream",
     "text": [
      " Classification: RESPOND - This email requires a response\n",
      "tool call for search_recall_memories\n",
      "last_message:content='I will use the reply_agent_tool to generate a reply to the email.' additional_kwargs={'id': '4241155b-8c8f-43b0-b379-6fef18aeb1cf', 'finish_reason': 'TOOL_CALL', 'tool_plan': 'I will use the reply_agent_tool to generate a reply to the email.', 'tool_calls': [{'id': 'reply_agent_tool_z89jramebbye', 'type': 'function', 'function': {'name': 'reply_agent_tool', 'arguments': '{\"email_input\":{\"from\":\"manab@example.com\",\"to\":\"professor@example.com\",\"subject\":\"Potential Collaboration on AI Research\",\"body\":\"Dear Professor,\\\\n\\\\nI hope this email finds you well.\\\\n\\\\nI am writing to express my interest in potentially collaborating on AI-related research projects. I have been following your work in [mention specific area of professor\\'s work if known, otherwise remove this part], and I believe my skills and interests align well with your research. \\\\n\\\\nWould you be available to discuss potential collaboration opportunities sometime next week? Please let me know your availability.\\\\nThank you for your time and consideration.\\\\n\\\\nSincerely,\\\\nManab\"},\"query\":\"Dear Manab,\\\\nThank you for reaching out. I\\'m open to the idea of collaborating on AI research. Could you share a brief overview of your current work and areas of interest?\\\\nBest regards,\\\\nProfessor Sharma\",\"previous_responses\":\"\",\"retrieved_company_data\":\"\"}'}}], 'token_count': {'input_tokens': 3558.0, 'output_tokens': 270.0}} response_metadata={'id': '4241155b-8c8f-43b0-b379-6fef18aeb1cf', 'finish_reason': 'TOOL_CALL', 'tool_plan': 'I will use the reply_agent_tool to generate a reply to the email.', 'tool_calls': [{'id': 'reply_agent_tool_z89jramebbye', 'type': 'function', 'function': {'name': 'reply_agent_tool', 'arguments': '{\"email_input\":{\"from\":\"manab@example.com\",\"to\":\"professor@example.com\",\"subject\":\"Potential Collaboration on AI Research\",\"body\":\"Dear Professor,\\\\n\\\\nI hope this email finds you well.\\\\n\\\\nI am writing to express my interest in potentially collaborating on AI-related research projects. I have been following your work in [mention specific area of professor\\'s work if known, otherwise remove this part], and I believe my skills and interests align well with your research. \\\\n\\\\nWould you be available to discuss potential collaboration opportunities sometime next week? Please let me know your availability.\\\\nThank you for your time and consideration.\\\\n\\\\nSincerely,\\\\nManab\"},\"query\":\"Dear Manab,\\\\nThank you for reaching out. I\\'m open to the idea of collaborating on AI research. Could you share a brief overview of your current work and areas of interest?\\\\nBest regards,\\\\nProfessor Sharma\",\"previous_responses\":\"\",\"retrieved_company_data\":\"\"}'}}], 'token_count': {'input_tokens': 3558.0, 'output_tokens': 270.0}} id='run-dbc769ca-40bf-4367-9b07-8a16f41ad17d-0' tool_calls=[{'name': 'reply_agent_tool', 'args': {'email_input': {'from': 'manab@example.com', 'to': 'professor@example.com', 'subject': 'Potential Collaboration on AI Research', 'body': \"Dear Professor,\\n\\nI hope this email finds you well.\\n\\nI am writing to express my interest in potentially collaborating on AI-related research projects. I have been following your work in [mention specific area of professor's work if known, otherwise remove this part], and I believe my skills and interests align well with your research. \\n\\nWould you be available to discuss potential collaboration opportunities sometime next week? Please let me know your availability.\\nThank you for your time and consideration.\\n\\nSincerely,\\nManab\"}, 'query': \"Dear Manab,\\nThank you for reaching out. I'm open to the idea of collaborating on AI research. Could you share a brief overview of your current work and areas of interest?\\nBest regards,\\nProfessor Sharma\", 'previous_responses': '', 'retrieved_company_data': ''}, 'id': 'reply_agent_tool_z89jramebbye', 'type': 'tool_call'}] usage_metadata={'input_tokens': 3558, 'output_tokens': 270, 'total_tokens': 3828}\n",
      "Calling tool: reply_agent_tool\n",
      "Tool args: {'email_input': {'from': 'manab@example.com', 'to': 'professor@example.com', 'subject': 'Potential Collaboration on AI Research', 'body': \"Dear Professor,\\n\\nI hope this email finds you well.\\n\\nI am writing to express my interest in potentially collaborating on AI-related research projects. I have been following your work in [mention specific area of professor's work if known, otherwise remove this part], and I believe my skills and interests align well with your research. \\n\\nWould you be available to discuss potential collaboration opportunities sometime next week? Please let me know your availability.\\nThank you for your time and consideration.\\n\\nSincerely,\\nManab\"}, 'query': \"Dear Manab,\\nThank you for reaching out. I'm open to the idea of collaborating on AI research. Could you share a brief overview of your current work and areas of interest?\\nBest regards,\\nProfessor Sharma\", 'previous_responses': '', 'retrieved_company_data': ''}\n",
      "Expected input schema: <class 'langchain_core.utils.pydantic.reply_agent_tool'>\n",
      "tool call for reply_agent_tool\n",
      "helper call for _save_recall_memory\n",
      "Memory saved for user user_224\n",
      "Execution Time for Test 3: 12.00 seconds\n",
      "\n",
      "=== Final Graph Output for Test 3 ===\n",
      "{'messages_query': \"\\nReceived Email:\\nfrom: professor@example.com  \\nto: manab@example.com  \\nsubject: Re: Request for Project Collaboration  \\nbody:\\nDear Manab,  \\nThank you for reaching out. I'm open to the idea of collaborating on AI research. Could you share a brief overview of your current work and areas of interest?  \\nBest regards,  \\nProfessor Sharma\\n\\nReply to the following email professionally:\\n\", 'reasoning': \"The email from Professor Sharma is a direct response to Manab's initial outreach regarding a project collaboration. It expresses interest in the collaboration and specifically requests a brief overview of Manab's current work and areas of interest. This indicates that the email requires a response from Manab to provide the requested information and move the collaboration forward.\", 'classification': 'Respond', 'generated_email': \"Here is a draft of a reply to the email:\\n\\nFrom: manab@example.com\\nTo: professor@example.com\\nSubject: Potential Collaboration on AI Research\\n\\nDear Professor Sharma,\\n\\nThank you for your prompt response and for expressing interest in collaborating on AI research.\\n\\nCurrently, my work focuses on [insert brief overview of your current work and areas of interest]. I am particularly interested in [mention specific areas of interest that align with the professor's work]. I believe that my expertise in [mention your relevant skills or experience] could contribute to [mention potential collaboration opportunities or projects].\\n\\nI would be delighted to discuss potential collaboration opportunities further and explore how our interests align. Please let me know your availability for a meeting or call at your convenience.\\n\\nThank you again for considering my request.\\n\\nBest regards,\\nManab\"}\n"
     ]
    }
   ],
   "source": [
    "from langchain_core.runnables import RunnableConfig\n",
    "import time\n",
    "\n",
    "test_input_3 = {\n",
    "    \"messages_query\": \"\"\"\n",
    "Received Email:\n",
    "from: professor@example.com  \n",
    "to: manab@example.com  \n",
    "subject: Re: Request for Project Collaboration  \n",
    "body:\n",
    "Dear Manab,  \n",
    "Thank you for reaching out. I'm open to the idea of collaborating on AI research. Could you share a brief overview of your current work and areas of interest?  \n",
    "Best regards,  \n",
    "Professor Sharma\n",
    "\n",
    "Reply to the following email professionally:\n",
    "\"\"\",\n",
    "}\n",
    "\n",
    "config_3 = RunnableConfig(\n",
    "    configurable={\"user_id\": \"user_224\"}\n",
    ")\n",
    "\n",
    "start_time_3 = time.time()\n",
    "final_output_3 = main_agent.invoke(test_input_3, config=config_3)\n",
    "end_time_3 = time.time()\n",
    "\n",
    "print(f\"Execution Time for Test 3: {end_time_3 - start_time_3:.2f} seconds\")\n",
    "# Print output\n",
    "print(\"\\n=== Final Graph Output for Test 3 ===\")\n",
    "print(final_output_3)\n"
   ]
  },
  {
   "cell_type": "code",
   "execution_count": 14,
   "id": "a4d0ff25",
   "metadata": {},
   "outputs": [
    {
     "name": "stdout",
     "output_type": "stream",
     "text": [
      "Here is a draft of a reply to the email:\n",
      "\n",
      "From: manab@example.com\n",
      "To: professor@example.com\n",
      "Subject: Potential Collaboration on AI Research\n",
      "\n",
      "Dear Professor Sharma,\n",
      "\n",
      "Thank you for your prompt response and for expressing interest in collaborating on AI research.\n",
      "\n",
      "Currently, my work focuses on [insert brief overview of your current work and areas of interest]. I am particularly interested in [mention specific areas of interest that align with the professor's work]. I believe that my expertise in [mention your relevant skills or experience] could contribute to [mention potential collaboration opportunities or projects].\n",
      "\n",
      "I would be delighted to discuss potential collaboration opportunities further and explore how our interests align. Please let me know your availability for a meeting or call at your convenience.\n",
      "\n",
      "Thank you again for considering my request.\n",
      "\n",
      "Best regards,\n",
      "Manab\n"
     ]
    }
   ],
   "source": [
    "print(final_output_3[\"generated_email\"])"
   ]
  },
  {
   "cell_type": "code",
   "execution_count": null,
   "id": "949cc884",
   "metadata": {},
   "outputs": [],
   "source": []
  },
  {
   "cell_type": "code",
   "execution_count": null,
   "id": "1b0b68c4",
   "metadata": {},
   "outputs": [],
   "source": []
  },
  {
   "cell_type": "code",
   "execution_count": null,
   "id": "4a6aebec",
   "metadata": {},
   "outputs": [],
   "source": []
  },
  {
   "cell_type": "code",
   "execution_count": null,
   "id": "da543ab0",
   "metadata": {},
   "outputs": [],
   "source": []
  }
 ],
 "metadata": {
  "kernelspec": {
   "display_name": "Python 3",
   "language": "python",
   "name": "python3"
  },
  "language_info": {
   "codemirror_mode": {
    "name": "ipython",
    "version": 3
   },
   "file_extension": ".py",
   "mimetype": "text/x-python",
   "name": "python",
   "nbconvert_exporter": "python",
   "pygments_lexer": "ipython3",
   "version": "3.12.3"
  }
 },
 "nbformat": 4,
 "nbformat_minor": 5
}
